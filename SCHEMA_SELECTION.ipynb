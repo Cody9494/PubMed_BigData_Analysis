{
  "nbformat": 4,
  "nbformat_minor": 0,
  "metadata": {
    "colab": {
      "provenance": []
    },
    "kernelspec": {
      "name": "python3",
      "display_name": "Python 3"
    },
    "language_info": {
      "name": "python"
    }
  },
  "cells": [
    {
      "cell_type": "code",
      "execution_count": null,
      "metadata": {
        "colab": {
          "base_uri": "https://localhost:8080/"
        },
        "id": "xQCLrz5_ERuK",
        "outputId": "ca6f5e6c-48fb-450f-e9cc-bf09309750a6"
      },
      "outputs": [
        {
          "output_type": "stream",
          "name": "stdout",
          "text": [
            "Mounted at /content/drive\n"
          ]
        }
      ],
      "source": [
        "from google.colab import drive\n",
        "drive.mount('/content/drive')"
      ]
    },
    {
      "cell_type": "code",
      "source": [
        "parquet_folder = \"/content/\""
      ],
      "metadata": {
        "id": "43VYYwhbETFC"
      },
      "execution_count": null,
      "outputs": []
    },
    {
      "cell_type": "code",
      "source": [
        "from pyspark.sql import SparkSession\n",
        "\n",
        "spark = SparkSession.builder.appName(\"PubMedData\").getOrCreate()"
      ],
      "metadata": {
        "id": "KRmu_EimETZq"
      },
      "execution_count": null,
      "outputs": []
    },
    {
      "cell_type": "code",
      "source": [
        "!ls '/content/drive/MyDrive/PubMedData/'"
      ],
      "metadata": {
        "colab": {
          "base_uri": "https://localhost:8080/"
        },
        "id": "ZN7bIGosEU1S",
        "outputId": "a3994522-ab69-40bc-ce2a-3a7bacc18bba"
      },
      "execution_count": null,
      "outputs": [
        {
          "output_type": "stream",
          "name": "stdout",
          "text": [
            " df_selected.parquet\t\t  parquet\n",
            " df_with_citations_list.parquet   pmid_citations_901.csv\n",
            "'impact factor journals.xlsx'\n"
          ]
        }
      ]
    },
    {
      "cell_type": "code",
      "source": [
        "file_path = '/content/drive/MyDrive/PubMedData/parquet/pubmed25n0901.parquet'\n",
        "df = spark.read.parquet(file_path)"
      ],
      "metadata": {
        "id": "BvVkHjQ3EYey"
      },
      "execution_count": null,
      "outputs": []
    },
    {
      "cell_type": "code",
      "source": [
        "from pyspark.sql.functions import from_json, struct\n",
        "\n",
        "json_schema_medline = spark.read.json(df.rdd.map(lambda row: row.MedlineCitation)).schema\n",
        "json_schema_pubmed = spark.read.json(df.rdd.map(lambda row: row.PubmedData)).schema\n",
        "\n",
        "df_parsed = df.withColumn(\"MedlineCitation\", from_json(\"MedlineCitation\", json_schema_medline)) \\\n",
        "              .withColumn(\"PubmedData\", from_json(\"PubmedData\", json_schema_pubmed))\n",
        "\n",
        "df_parsed.printSchema()"
      ],
      "metadata": {
        "colab": {
          "base_uri": "https://localhost:8080/"
        },
        "id": "-20OVehPEZ8r",
        "outputId": "fe96de48-c70b-4839-f984-d6df1fbeb9d6"
      },
      "execution_count": null,
      "outputs": [
        {
          "output_type": "stream",
          "name": "stdout",
          "text": [
            "root\n",
            " |-- MedlineCitation: struct (nullable = true)\n",
            " |    |-- @IndexingMethod: string (nullable = true)\n",
            " |    |-- @Owner: string (nullable = true)\n",
            " |    |-- @Status: string (nullable = true)\n",
            " |    |-- @VersionDate: string (nullable = true)\n",
            " |    |-- @VersionID: string (nullable = true)\n",
            " |    |-- Article: struct (nullable = true)\n",
            " |    |    |-- @PubModel: string (nullable = true)\n",
            " |    |    |-- Abstract: struct (nullable = true)\n",
            " |    |    |    |-- AbstractText: string (nullable = true)\n",
            " |    |    |    |-- CopyrightInformation: string (nullable = true)\n",
            " |    |    |-- ArticleDate: struct (nullable = true)\n",
            " |    |    |    |-- @DateType: string (nullable = true)\n",
            " |    |    |    |-- Day: string (nullable = true)\n",
            " |    |    |    |-- Month: string (nullable = true)\n",
            " |    |    |    |-- Year: string (nullable = true)\n",
            " |    |    |-- ArticleTitle: string (nullable = true)\n",
            " |    |    |-- AuthorList: struct (nullable = true)\n",
            " |    |    |    |-- @CompleteYN: string (nullable = true)\n",
            " |    |    |    |-- Author: string (nullable = true)\n",
            " |    |    |-- DataBankList: struct (nullable = true)\n",
            " |    |    |    |-- @CompleteYN: string (nullable = true)\n",
            " |    |    |    |-- DataBank: string (nullable = true)\n",
            " |    |    |-- ELocationID: string (nullable = true)\n",
            " |    |    |-- GrantList: struct (nullable = true)\n",
            " |    |    |    |-- @CompleteYN: string (nullable = true)\n",
            " |    |    |    |-- Grant: string (nullable = true)\n",
            " |    |    |-- Journal: struct (nullable = true)\n",
            " |    |    |    |-- ISOAbbreviation: string (nullable = true)\n",
            " |    |    |    |-- ISSN: struct (nullable = true)\n",
            " |    |    |    |    |-- #text: string (nullable = true)\n",
            " |    |    |    |    |-- @IssnType: string (nullable = true)\n",
            " |    |    |    |-- JournalIssue: struct (nullable = true)\n",
            " |    |    |    |    |-- @CitedMedium: string (nullable = true)\n",
            " |    |    |    |    |-- Issue: string (nullable = true)\n",
            " |    |    |    |    |-- PubDate: struct (nullable = true)\n",
            " |    |    |    |    |    |-- Day: string (nullable = true)\n",
            " |    |    |    |    |    |-- MedlineDate: string (nullable = true)\n",
            " |    |    |    |    |    |-- Month: string (nullable = true)\n",
            " |    |    |    |    |    |-- Season: string (nullable = true)\n",
            " |    |    |    |    |    |-- Year: string (nullable = true)\n",
            " |    |    |    |    |-- Volume: string (nullable = true)\n",
            " |    |    |    |-- Title: string (nullable = true)\n",
            " |    |    |-- Language: string (nullable = true)\n",
            " |    |    |-- Pagination: struct (nullable = true)\n",
            " |    |    |    |-- MedlinePgn: string (nullable = true)\n",
            " |    |    |-- PublicationTypeList: struct (nullable = true)\n",
            " |    |    |    |-- PublicationType: string (nullable = true)\n",
            " |    |    |-- VernacularTitle: string (nullable = true)\n",
            " |    |-- ChemicalList: struct (nullable = true)\n",
            " |    |    |-- Chemical: string (nullable = true)\n",
            " |    |-- CitationSubset: string (nullable = true)\n",
            " |    |-- CoiStatement: string (nullable = true)\n",
            " |    |-- CommentsCorrectionsList: struct (nullable = true)\n",
            " |    |    |-- CommentsCorrections: string (nullable = true)\n",
            " |    |-- DateCompleted: struct (nullable = true)\n",
            " |    |    |-- Day: string (nullable = true)\n",
            " |    |    |-- Month: string (nullable = true)\n",
            " |    |    |-- Year: string (nullable = true)\n",
            " |    |-- DateRevised: struct (nullable = true)\n",
            " |    |    |-- Day: string (nullable = true)\n",
            " |    |    |-- Month: string (nullable = true)\n",
            " |    |    |-- Year: string (nullable = true)\n",
            " |    |-- InvestigatorList: struct (nullable = true)\n",
            " |    |    |-- Investigator: array (nullable = true)\n",
            " |    |    |    |-- element: struct (containsNull = true)\n",
            " |    |    |    |    |-- @ValidYN: string (nullable = true)\n",
            " |    |    |    |    |-- AffiliationInfo: struct (nullable = true)\n",
            " |    |    |    |    |    |-- Affiliation: string (nullable = true)\n",
            " |    |    |    |    |-- ForeName: string (nullable = true)\n",
            " |    |    |    |    |-- Initials: string (nullable = true)\n",
            " |    |    |    |    |-- LastName: string (nullable = true)\n",
            " |    |    |    |    |-- Suffix: string (nullable = true)\n",
            " |    |-- KeywordList: struct (nullable = true)\n",
            " |    |    |-- @Owner: string (nullable = true)\n",
            " |    |    |-- Keyword: string (nullable = true)\n",
            " |    |-- MedlineJournalInfo: struct (nullable = true)\n",
            " |    |    |-- Country: string (nullable = true)\n",
            " |    |    |-- ISSNLinking: string (nullable = true)\n",
            " |    |    |-- MedlineTA: string (nullable = true)\n",
            " |    |    |-- NlmUniqueID: string (nullable = true)\n",
            " |    |-- MeshHeadingList: struct (nullable = true)\n",
            " |    |    |-- MeshHeading: string (nullable = true)\n",
            " |    |-- OtherAbstract: string (nullable = true)\n",
            " |    |-- PMID: struct (nullable = true)\n",
            " |    |    |-- #text: string (nullable = true)\n",
            " |    |    |-- @Version: string (nullable = true)\n",
            " |    |-- PersonalNameSubjectList: struct (nullable = true)\n",
            " |    |    |-- PersonalNameSubject: string (nullable = true)\n",
            " |    |-- SupplMeshList: struct (nullable = true)\n",
            " |    |    |-- SupplMeshName: string (nullable = true)\n",
            " |-- PubmedData: struct (nullable = true)\n",
            " |    |-- ArticleIdList: struct (nullable = true)\n",
            " |    |    |-- ArticleId: string (nullable = true)\n",
            " |    |-- History: struct (nullable = true)\n",
            " |    |    |-- PubMedPubDate: array (nullable = true)\n",
            " |    |    |    |-- element: struct (containsNull = true)\n",
            " |    |    |    |    |-- @PubStatus: string (nullable = true)\n",
            " |    |    |    |    |-- Day: string (nullable = true)\n",
            " |    |    |    |    |-- Hour: string (nullable = true)\n",
            " |    |    |    |    |-- Minute: string (nullable = true)\n",
            " |    |    |    |    |-- Month: string (nullable = true)\n",
            " |    |    |    |    |-- Year: string (nullable = true)\n",
            " |    |-- PublicationStatus: string (nullable = true)\n",
            " |    |-- ReferenceList: struct (nullable = true)\n",
            " |    |    |-- Reference: string (nullable = true)\n",
            " |    |    |-- Title: string (nullable = true)\n",
            "\n"
          ]
        }
      ]
    },
    {
      "cell_type": "markdown",
      "source": [],
      "metadata": {
        "id": "ExELw8lhQ5U6"
      }
    },
    {
      "cell_type": "code",
      "source": [
        "from graphviz import Digraph\n",
        "\n",
        "def generate_schema_graph(schema, graph, parent_node=None):\n",
        "    for field in schema.fields:\n",
        "        node_name = field.name  # Use only the field name\n",
        "\n",
        "        graph.node(node_name, node_name, shape='box')\n",
        "\n",
        "        if parent_node:\n",
        "            graph.edge(parent_node, node_name)\n",
        "\n",
        "        if isinstance(field.dataType, ArrayType) and isinstance(field.dataType.elementType, StructType):\n",
        "            generate_schema_graph(field.dataType.elementType, graph, node_name)\n",
        "        elif isinstance(field.dataType, StructType):\n",
        "            generate_schema_graph(field.dataType, graph, node_name)\n",
        "\n",
        "# Create separate graphs for MedlineCitation and PubmedData\n",
        "dot_medline = Digraph(comment='MedlineCitation Schema')\n",
        "dot_medline.attr(rankdir='TB', size='500')  # Vertical layout\n",
        "\n",
        "dot_pubmed = Digraph(comment='PubmedData Schema')\n",
        "dot_pubmed.attr(rankdir='TB', size='10')  # Vertical layout\n",
        "\n",
        "# Generate schema graphs for each\n",
        "generate_schema_graph(df_parsed.schema[\"MedlineCitation\"].dataType, dot_medline, \"MedlineCitation\")\n",
        "generate_schema_graph(df_parsed.schema[\"PubmedData\"].dataType, dot_pubmed, \"PubmedData\")\n",
        "\n",
        "# Render to separate files\n",
        "dot_medline.render('/mnt/data/medline_citation_schema', format='svg', cleanup=False)\n",
        "dot_pubmed.render('/mnt/data/pubmed_data_schema', format='svg', cleanup=False)\n",
        "\n",
        "# Return paths to images\n",
        "print(f\"MedlineCitation Schema: /mnt/data/medline_citation_schema.svg\")\n",
        "print(f\"PubmedData Schema: /mnt/data/pubmed_data_schema.svg\")"
      ],
      "metadata": {
        "colab": {
          "base_uri": "https://localhost:8080/"
        },
        "id": "KB-WqFyzQ5ep",
        "outputId": "55851d45-dda1-4abe-b685-8c1b0b6bd5d3"
      },
      "execution_count": null,
      "outputs": [
        {
          "output_type": "stream",
          "name": "stdout",
          "text": [
            "MedlineCitation Schema: /mnt/data/medline_citation_schema.svg\n",
            "PubmedData Schema: /mnt/data/pubmed_data_schema.svg\n"
          ]
        }
      ]
    },
    {
      "cell_type": "code",
      "source": [
        "from IPython.display import Image\n",
        "from IPython.display import SVG\n",
        "\n",
        "SVG(filename='/mnt/data/medline_citation_schema.svg')"
      ],
      "metadata": {
        "colab": {
          "base_uri": "https://localhost:8080/",
          "height": 581
        },
        "id": "x8f3hY_NQ5hC",
        "outputId": "bf9b52cb-c3a1-4512-f82a-8f1a05d86e33"
      },
      "execution_count": null,
      "outputs": [
        {
          "output_type": "execute_result",
          "data": {
            "text/plain": [
              "<IPython.core.display.SVG object>"
            ],
            "image/svg+xml": "<svg xmlns=\"http://www.w3.org/2000/svg\" xmlns:xlink=\"http://www.w3.org/1999/xlink\" width=\"3111pt\" height=\"404pt\" viewBox=\"0.00 0.00 3111.00 404.00\">\n<g id=\"graph0\" class=\"graph\" transform=\"scale(1 1) rotate(0) translate(4 400)\">\n<title>%3</title>\n<polygon fill=\"white\" stroke=\"transparent\" points=\"-4,4 -4,-400 3107,-400 3107,4 -4,4\"/>\n<!-- @IndexingMethod -->\n<g id=\"node1\" class=\"node\">\n<title>@IndexingMethod</title>\n<polygon fill=\"none\" stroke=\"black\" points=\"120,-324 0,-324 0,-288 120,-288 120,-324\"/>\n<text text-anchor=\"middle\" x=\"60\" y=\"-302.3\" font-family=\"Times,serif\" font-size=\"14.00\">@IndexingMethod</text>\n</g>\n<!-- MedlineCitation -->\n<g id=\"node2\" class=\"node\">\n<title>MedlineCitation</title>\n<ellipse fill=\"none\" stroke=\"black\" cx=\"1422\" cy=\"-378\" rx=\"68.79\" ry=\"18\"/>\n<text text-anchor=\"middle\" x=\"1422\" y=\"-374.3\" font-family=\"Times,serif\" font-size=\"14.00\">MedlineCitation</text>\n</g>\n<!-- MedlineCitation&#45;&gt;@IndexingMethod -->\n<g id=\"edge1\" class=\"edge\">\n<title>MedlineCitation-&gt;@IndexingMethod</title>\n<path fill=\"none\" stroke=\"black\" d=\"M1353.44,-375.85C1122.33,-371.71 373,-356.09 134,-324 132.71,-323.83 131.42,-323.64 130.11,-323.45\"/>\n<polygon fill=\"black\" stroke=\"black\" points=\"130.45,-319.95 120.01,-321.76 129.29,-326.86 130.45,-319.95\"/>\n</g>\n<!-- @Owner -->\n<g id=\"node3\" class=\"node\">\n<title>@Owner</title>\n<polygon fill=\"none\" stroke=\"black\" points=\"181,-252 115,-252 115,-216 181,-216 181,-252\"/>\n<text text-anchor=\"middle\" x=\"148\" y=\"-230.3\" font-family=\"Times,serif\" font-size=\"14.00\">@Owner</text>\n</g>\n<!-- MedlineCitation&#45;&gt;@Owner -->\n<g id=\"edge2\" class=\"edge\">\n<title>MedlineCitation-&gt;@Owner</title>\n<path fill=\"none\" stroke=\"black\" d=\"M1353.35,-376.41C1097.62,-373.91 212.58,-362.5 167,-324 149.5,-309.22 145.73,-282.65 145.75,-262.37\"/>\n<polygon fill=\"black\" stroke=\"black\" points=\"149.25,-262.26 146.07,-252.15 142.26,-262.04 149.25,-262.26\"/>\n</g>\n<!-- @Status -->\n<g id=\"node4\" class=\"node\">\n<title>@Status</title>\n<polygon fill=\"none\" stroke=\"black\" points=\"344,-324 282,-324 282,-288 344,-288 344,-324\"/>\n<text text-anchor=\"middle\" x=\"313\" y=\"-302.3\" font-family=\"Times,serif\" font-size=\"14.00\">@Status</text>\n</g>\n<!-- MedlineCitation&#45;&gt;@Status -->\n<g id=\"edge3\" class=\"edge\">\n<title>MedlineCitation-&gt;@Status</title>\n<path fill=\"none\" stroke=\"black\" d=\"M1352.96,-376.73C1151.12,-375.47 563.64,-368.16 354.08,-323.66\"/>\n<polygon fill=\"black\" stroke=\"black\" points=\"354.61,-320.19 344.09,-321.44 353.1,-327.03 354.61,-320.19\"/>\n</g>\n<!-- @VersionDate -->\n<g id=\"node5\" class=\"node\">\n<title>@VersionDate</title>\n<polygon fill=\"none\" stroke=\"black\" points=\"458,-324 362,-324 362,-288 458,-288 458,-324\"/>\n<text text-anchor=\"middle\" x=\"410\" y=\"-302.3\" font-family=\"Times,serif\" font-size=\"14.00\">@VersionDate</text>\n</g>\n<!-- MedlineCitation&#45;&gt;@VersionDate -->\n<g id=\"edge4\" class=\"edge\">\n<title>MedlineCitation-&gt;@VersionDate</title>\n<path fill=\"none\" stroke=\"black\" d=\"M1353.86,-375.29C1168.44,-370.32 656.68,-354.36 468.09,-323.88\"/>\n<polygon fill=\"black\" stroke=\"black\" points=\"468.45,-320.39 458.01,-322.18 467.29,-327.29 468.45,-320.39\"/>\n</g>\n<!-- @VersionID -->\n<g id=\"node6\" class=\"node\">\n<title>@VersionID</title>\n<polygon fill=\"none\" stroke=\"black\" points=\"561.5,-324 476.5,-324 476.5,-288 561.5,-288 561.5,-324\"/>\n<text text-anchor=\"middle\" x=\"519\" y=\"-302.3\" font-family=\"Times,serif\" font-size=\"14.00\">@VersionID</text>\n</g>\n<!-- MedlineCitation&#45;&gt;@VersionID -->\n<g id=\"edge5\" class=\"edge\">\n<title>MedlineCitation-&gt;@VersionID</title>\n<path fill=\"none\" stroke=\"black\" d=\"M1354.24,-374.74C1180.99,-368.65 725.05,-350.54 576,-324 574.54,-323.74 573.06,-323.46 571.58,-323.15\"/>\n<polygon fill=\"black\" stroke=\"black\" points=\"572.23,-319.71 561.7,-320.87 570.66,-326.53 572.23,-319.71\"/>\n</g>\n<!-- Article -->\n<g id=\"node7\" class=\"node\">\n<title>Article</title>\n<polygon fill=\"none\" stroke=\"black\" points=\"1404,-324 1350,-324 1350,-288 1404,-288 1404,-324\"/>\n<text text-anchor=\"middle\" x=\"1377\" y=\"-302.3\" font-family=\"Times,serif\" font-size=\"14.00\">Article</text>\n</g>\n<!-- MedlineCitation&#45;&gt;Article -->\n<g id=\"edge6\" class=\"edge\">\n<title>MedlineCitation-&gt;Article</title>\n<path fill=\"none\" stroke=\"black\" d=\"M1411.11,-360.05C1405.88,-351.92 1399.5,-342 1393.68,-332.94\"/>\n<polygon fill=\"black\" stroke=\"black\" points=\"1396.46,-330.79 1388.11,-324.28 1390.57,-334.58 1396.46,-330.79\"/>\n</g>\n<!-- ChemicalList -->\n<g id=\"node45\" class=\"node\">\n<title>ChemicalList</title>\n<polygon fill=\"none\" stroke=\"black\" points=\"1512,-324 1422,-324 1422,-288 1512,-288 1512,-324\"/>\n<text text-anchor=\"middle\" x=\"1467\" y=\"-302.3\" font-family=\"Times,serif\" font-size=\"14.00\">ChemicalList</text>\n</g>\n<!-- MedlineCitation&#45;&gt;ChemicalList -->\n<g id=\"edge49\" class=\"edge\">\n<title>MedlineCitation-&gt;ChemicalList</title>\n<path fill=\"none\" stroke=\"black\" d=\"M1432.89,-360.05C1438.12,-351.92 1444.5,-342 1450.32,-332.94\"/>\n<polygon fill=\"black\" stroke=\"black\" points=\"1453.43,-334.58 1455.89,-324.28 1447.54,-330.79 1453.43,-334.58\"/>\n</g>\n<!-- CitationSubset -->\n<g id=\"node47\" class=\"node\">\n<title>CitationSubset</title>\n<polygon fill=\"none\" stroke=\"black\" points=\"1626,-324 1530,-324 1530,-288 1626,-288 1626,-324\"/>\n<text text-anchor=\"middle\" x=\"1578\" y=\"-302.3\" font-family=\"Times,serif\" font-size=\"14.00\">CitationSubset</text>\n</g>\n<!-- MedlineCitation&#45;&gt;CitationSubset -->\n<g id=\"edge51\" class=\"edge\">\n<title>MedlineCitation-&gt;CitationSubset</title>\n<path fill=\"none\" stroke=\"black\" d=\"M1455.08,-362.15C1477.03,-352.31 1506.18,-339.23 1530.59,-328.28\"/>\n<polygon fill=\"black\" stroke=\"black\" points=\"1532.33,-331.33 1540.03,-324.04 1529.47,-324.94 1532.33,-331.33\"/>\n</g>\n<!-- CoiStatement -->\n<g id=\"node48\" class=\"node\">\n<title>CoiStatement</title>\n<polygon fill=\"none\" stroke=\"black\" points=\"1735.5,-324 1644.5,-324 1644.5,-288 1735.5,-288 1735.5,-324\"/>\n<text text-anchor=\"middle\" x=\"1690\" y=\"-302.3\" font-family=\"Times,serif\" font-size=\"14.00\">CoiStatement</text>\n</g>\n<!-- MedlineCitation&#45;&gt;CoiStatement -->\n<g id=\"edge52\" class=\"edge\">\n<title>MedlineCitation-&gt;CoiStatement</title>\n<path fill=\"none\" stroke=\"black\" d=\"M1471.7,-365.46C1512.8,-355.74 1572.9,-341.08 1634.54,-324.05\"/>\n<polygon fill=\"black\" stroke=\"black\" points=\"1635.74,-327.35 1644.44,-321.3 1633.87,-320.6 1635.74,-327.35\"/>\n</g>\n<!-- CommentsCorrectionsList -->\n<g id=\"node49\" class=\"node\">\n<title>CommentsCorrectionsList</title>\n<polygon fill=\"none\" stroke=\"black\" points=\"1966.5,-324 1805.5,-324 1805.5,-288 1966.5,-288 1966.5,-324\"/>\n<text text-anchor=\"middle\" x=\"1886\" y=\"-302.3\" font-family=\"Times,serif\" font-size=\"14.00\">CommentsCorrectionsList</text>\n</g>\n<!-- MedlineCitation&#45;&gt;CommentsCorrectionsList -->\n<g id=\"edge53\" class=\"edge\">\n<title>MedlineCitation-&gt;CommentsCorrectionsList</title>\n<path fill=\"none\" stroke=\"black\" d=\"M1480.3,-368.21C1559.56,-356.25 1702.1,-334.74 1795.38,-320.67\"/>\n<polygon fill=\"black\" stroke=\"black\" points=\"1796.01,-324.12 1805.37,-319.16 1794.96,-317.19 1796.01,-324.12\"/>\n</g>\n<!-- DateCompleted -->\n<g id=\"node51\" class=\"node\">\n<title>DateCompleted</title>\n<polygon fill=\"none\" stroke=\"black\" points=\"1068,-108 966,-108 966,-72 1068,-72 1068,-108\"/>\n<text text-anchor=\"middle\" x=\"1017\" y=\"-86.3\" font-family=\"Times,serif\" font-size=\"14.00\">DateCompleted</text>\n</g>\n<!-- MedlineCitation&#45;&gt;DateCompleted -->\n<g id=\"edge55\" class=\"edge\">\n<title>MedlineCitation-&gt;DateCompleted</title>\n<path fill=\"none\" stroke=\"black\" d=\"M1353.05,-376.66C1170.44,-375.17 684.29,-367.14 627,-324 563.01,-275.82 571.2,-191.08 636,-144 685.73,-107.87 860.97,-96.3 955.49,-92.64\"/>\n<polygon fill=\"black\" stroke=\"black\" points=\"955.9,-96.13 965.77,-92.27 955.64,-89.14 955.9,-96.13\"/>\n</g>\n<!-- DateRevised -->\n<g id=\"node52\" class=\"node\">\n<title>DateRevised</title>\n<polygon fill=\"none\" stroke=\"black\" points=\"1172,-108 1086,-108 1086,-72 1172,-72 1172,-108\"/>\n<text text-anchor=\"middle\" x=\"1129\" y=\"-86.3\" font-family=\"Times,serif\" font-size=\"14.00\">DateRevised</text>\n</g>\n<!-- MedlineCitation&#45;&gt;DateRevised -->\n<g id=\"edge59\" class=\"edge\">\n<title>MedlineCitation-&gt;DateRevised</title>\n<path fill=\"none\" stroke=\"black\" d=\"M1354.1,-374.81C1182.95,-368.9 743.2,-351.25 683,-324 641.48,-305.21 627.58,-294.04 610,-252 579.95,-180.15 673.48,-166.64 748,-144 885.58,-102.2 931.17,-137.36 1075.65,-108\"/>\n<polygon fill=\"black\" stroke=\"black\" points=\"1076.71,-111.36 1085.77,-105.87 1075.27,-104.51 1076.71,-111.36\"/>\n</g>\n<!-- InvestigatorList -->\n<g id=\"node53\" class=\"node\">\n<title>InvestigatorList</title>\n<polygon fill=\"none\" stroke=\"black\" points=\"2234,-324 2132,-324 2132,-288 2234,-288 2234,-324\"/>\n<text text-anchor=\"middle\" x=\"2183\" y=\"-302.3\" font-family=\"Times,serif\" font-size=\"14.00\">InvestigatorList</text>\n</g>\n<!-- MedlineCitation&#45;&gt;InvestigatorList -->\n<g id=\"edge63\" class=\"edge\">\n<title>MedlineCitation-&gt;InvestigatorList</title>\n<path fill=\"none\" stroke=\"black\" d=\"M1485.9,-371.12C1630.23,-357.85 1979.87,-325.68 2121.7,-312.64\"/>\n<polygon fill=\"black\" stroke=\"black\" points=\"2122.31,-316.1 2131.95,-311.7 2121.67,-309.13 2122.31,-316.1\"/>\n</g>\n<!-- KeywordList -->\n<g id=\"node62\" class=\"node\">\n<title>KeywordList</title>\n<polygon fill=\"none\" stroke=\"black\" points=\"264,-324 176,-324 176,-288 264,-288 264,-324\"/>\n<text text-anchor=\"middle\" x=\"220\" y=\"-302.3\" font-family=\"Times,serif\" font-size=\"14.00\">KeywordList</text>\n</g>\n<!-- MedlineCitation&#45;&gt;KeywordList -->\n<g id=\"edge72\" class=\"edge\">\n<title>MedlineCitation-&gt;KeywordList</title>\n<path fill=\"none\" stroke=\"black\" d=\"M1353.35,-376.21C1141.88,-373.4 501.44,-362.05 273.9,-323.81\"/>\n<polygon fill=\"black\" stroke=\"black\" points=\"274.48,-320.35 264.02,-322.08 273.27,-327.25 274.48,-320.35\"/>\n</g>\n<!-- MedlineJournalInfo -->\n<g id=\"node64\" class=\"node\">\n<title>MedlineJournalInfo</title>\n<polygon fill=\"none\" stroke=\"black\" points=\"2451.5,-324 2326.5,-324 2326.5,-288 2451.5,-288 2451.5,-324\"/>\n<text text-anchor=\"middle\" x=\"2389\" y=\"-302.3\" font-family=\"Times,serif\" font-size=\"14.00\">MedlineJournalInfo</text>\n</g>\n<!-- MedlineCitation&#45;&gt;MedlineJournalInfo -->\n<g id=\"edge75\" class=\"edge\">\n<title>MedlineCitation-&gt;MedlineJournalInfo</title>\n<path fill=\"none\" stroke=\"black\" d=\"M1489.14,-373.84C1629.35,-366.98 1963.48,-349.28 2243,-324 2266.8,-321.85 2292.72,-319 2316.03,-316.24\"/>\n<polygon fill=\"black\" stroke=\"black\" points=\"2316.68,-319.69 2326.19,-315.03 2315.85,-312.74 2316.68,-319.69\"/>\n</g>\n<!-- MeshHeadingList -->\n<g id=\"node69\" class=\"node\">\n<title>MeshHeadingList</title>\n<polygon fill=\"none\" stroke=\"black\" points=\"2584,-324 2470,-324 2470,-288 2584,-288 2584,-324\"/>\n<text text-anchor=\"middle\" x=\"2527\" y=\"-302.3\" font-family=\"Times,serif\" font-size=\"14.00\">MeshHeadingList</text>\n</g>\n<!-- MedlineCitation&#45;&gt;MeshHeadingList -->\n<g id=\"edge80\" class=\"edge\">\n<title>MedlineCitation-&gt;MeshHeadingList</title>\n<path fill=\"none\" stroke=\"black\" d=\"M1490.2,-375.28C1686.74,-370.04 2252.77,-352.95 2459.61,-323.8\"/>\n<polygon fill=\"black\" stroke=\"black\" points=\"2460.38,-327.22 2469.77,-322.31 2459.37,-320.3 2460.38,-327.22\"/>\n</g>\n<!-- OtherAbstract -->\n<g id=\"node71\" class=\"node\">\n<title>OtherAbstract</title>\n<polygon fill=\"none\" stroke=\"black\" points=\"2695.5,-324 2602.5,-324 2602.5,-288 2695.5,-288 2695.5,-324\"/>\n<text text-anchor=\"middle\" x=\"2649\" y=\"-302.3\" font-family=\"Times,serif\" font-size=\"14.00\">OtherAbstract</text>\n</g>\n<!-- MedlineCitation&#45;&gt;OtherAbstract -->\n<g id=\"edge82\" class=\"edge\">\n<title>MedlineCitation-&gt;OtherAbstract</title>\n<path fill=\"none\" stroke=\"black\" d=\"M1490.78,-376.14C1705.04,-373.1 2359.46,-361.09 2592.35,-323.76\"/>\n<polygon fill=\"black\" stroke=\"black\" points=\"2593.17,-327.17 2602.46,-322.08 2592.02,-320.27 2593.17,-327.17\"/>\n</g>\n<!-- PMID -->\n<g id=\"node72\" class=\"node\">\n<title>PMID</title>\n<polygon fill=\"none\" stroke=\"black\" points=\"746,-324 692,-324 692,-288 746,-288 746,-324\"/>\n<text text-anchor=\"middle\" x=\"719\" y=\"-302.3\" font-family=\"Times,serif\" font-size=\"14.00\">PMID</text>\n</g>\n<!-- MedlineCitation&#45;&gt;PMID -->\n<g id=\"edge83\" class=\"edge\">\n<title>MedlineCitation-&gt;PMID</title>\n<path fill=\"none\" stroke=\"black\" d=\"M1358.68,-370.7C1215.5,-356.44 870.39,-322.07 756.31,-310.71\"/>\n<polygon fill=\"black\" stroke=\"black\" points=\"756.61,-307.23 746.31,-309.72 755.91,-314.19 756.61,-307.23\"/>\n</g>\n<!-- PersonalNameSubjectList -->\n<g id=\"node74\" class=\"node\">\n<title>PersonalNameSubjectList</title>\n<polygon fill=\"none\" stroke=\"black\" points=\"2933,-324 2775,-324 2775,-288 2933,-288 2933,-324\"/>\n<text text-anchor=\"middle\" x=\"2854\" y=\"-302.3\" font-family=\"Times,serif\" font-size=\"14.00\">PersonalNameSubjectList</text>\n</g>\n<!-- MedlineCitation&#45;&gt;PersonalNameSubjectList -->\n<g id=\"edge86\" class=\"edge\">\n<title>MedlineCitation-&gt;PersonalNameSubjectList</title>\n<path fill=\"none\" stroke=\"black\" d=\"M1490.55,-375.89C1682.43,-372.41 2241.2,-359.75 2704,-324 2723.67,-322.48 2744.74,-320.38 2764.69,-318.18\"/>\n<polygon fill=\"black\" stroke=\"black\" points=\"2765.15,-321.65 2774.7,-317.06 2764.37,-314.7 2765.15,-321.65\"/>\n</g>\n<!-- SupplMeshList -->\n<g id=\"node76\" class=\"node\">\n<title>SupplMeshList</title>\n<polygon fill=\"none\" stroke=\"black\" points=\"3081,-324 2981,-324 2981,-288 3081,-288 3081,-324\"/>\n<text text-anchor=\"middle\" x=\"3031\" y=\"-302.3\" font-family=\"Times,serif\" font-size=\"14.00\">SupplMeshList</text>\n</g>\n<!-- MedlineCitation&#45;&gt;SupplMeshList -->\n<g id=\"edge88\" class=\"edge\">\n<title>MedlineCitation-&gt;SupplMeshList</title>\n<path fill=\"none\" stroke=\"black\" d=\"M1490.51,-376.01C1747.6,-372.09 2654.84,-356.24 2942,-324 2951.4,-322.94 2961.29,-321.45 2970.93,-319.77\"/>\n<polygon fill=\"black\" stroke=\"black\" points=\"2971.63,-323.2 2980.84,-317.98 2970.38,-316.32 2971.63,-323.2\"/>\n</g>\n<!-- @PubModel -->\n<g id=\"node8\" class=\"node\">\n<title>@PubModel</title>\n<polygon fill=\"none\" stroke=\"black\" points=\"1383,-252 1297,-252 1297,-216 1383,-216 1383,-252\"/>\n<text text-anchor=\"middle\" x=\"1340\" y=\"-230.3\" font-family=\"Times,serif\" font-size=\"14.00\">@PubModel</text>\n</g>\n<!-- Article&#45;&gt;@PubModel -->\n<g id=\"edge7\" class=\"edge\">\n<title>Article-&gt;@PubModel</title>\n<path fill=\"none\" stroke=\"black\" d=\"M1367.85,-287.7C1363.6,-279.64 1358.44,-269.89 1353.73,-260.98\"/>\n<polygon fill=\"black\" stroke=\"black\" points=\"1356.81,-259.31 1349.04,-252.1 1350.62,-262.58 1356.81,-259.31\"/>\n</g>\n<!-- Abstract -->\n<g id=\"node9\" class=\"node\">\n<title>Abstract</title>\n<polygon fill=\"none\" stroke=\"black\" points=\"1463,-252 1401,-252 1401,-216 1463,-216 1463,-252\"/>\n<text text-anchor=\"middle\" x=\"1432\" y=\"-230.3\" font-family=\"Times,serif\" font-size=\"14.00\">Abstract</text>\n</g>\n<!-- Article&#45;&gt;Abstract -->\n<g id=\"edge8\" class=\"edge\">\n<title>Article-&gt;Abstract</title>\n<path fill=\"none\" stroke=\"black\" d=\"M1390.6,-287.7C1397.12,-279.39 1405.07,-269.28 1412.25,-260.14\"/>\n<polygon fill=\"black\" stroke=\"black\" points=\"1415.13,-262.13 1418.56,-252.1 1409.63,-257.81 1415.13,-262.13\"/>\n</g>\n<!-- ArticleDate -->\n<g id=\"node12\" class=\"node\">\n<title>ArticleDate</title>\n<polygon fill=\"none\" stroke=\"black\" points=\"1712,-108 1632,-108 1632,-72 1712,-72 1712,-108\"/>\n<text text-anchor=\"middle\" x=\"1672\" y=\"-86.3\" font-family=\"Times,serif\" font-size=\"14.00\">ArticleDate</text>\n</g>\n<!-- Article&#45;&gt;ArticleDate -->\n<g id=\"edge11\" class=\"edge\">\n<title>Article-&gt;ArticleDate</title>\n<path fill=\"none\" stroke=\"black\" d=\"M1404.19,-291.17C1407.12,-289.98 1410.09,-288.89 1413,-288 1512.33,-257.5 1569.88,-324.82 1644,-252 1679.49,-217.13 1679.5,-154.49 1675.98,-118.48\"/>\n<polygon fill=\"black\" stroke=\"black\" points=\"1679.42,-117.76 1674.81,-108.22 1672.46,-118.56 1679.42,-117.76\"/>\n</g>\n<!-- ArticleTitle -->\n<g id=\"node17\" class=\"node\">\n<title>ArticleTitle</title>\n<polygon fill=\"none\" stroke=\"black\" points=\"1635,-252 1555,-252 1555,-216 1635,-216 1635,-252\"/>\n<text text-anchor=\"middle\" x=\"1595\" y=\"-230.3\" font-family=\"Times,serif\" font-size=\"14.00\">ArticleTitle</text>\n</g>\n<!-- Article&#45;&gt;ArticleTitle -->\n<g id=\"edge16\" class=\"edge\">\n<title>Article-&gt;ArticleTitle</title>\n<path fill=\"none\" stroke=\"black\" d=\"M1404.3,-291.5C1407.21,-290.24 1410.15,-289.05 1413,-288 1467.55,-267.92 1485.65,-269.78 1545.06,-252.15\"/>\n<polygon fill=\"black\" stroke=\"black\" points=\"1546.41,-255.4 1554.96,-249.14 1544.38,-248.7 1546.41,-255.4\"/>\n</g>\n<!-- AuthorList -->\n<g id=\"node18\" class=\"node\">\n<title>AuthorList</title>\n<polygon fill=\"none\" stroke=\"black\" points=\"1767,-252 1691,-252 1691,-216 1767,-216 1767,-252\"/>\n<text text-anchor=\"middle\" x=\"1729\" y=\"-230.3\" font-family=\"Times,serif\" font-size=\"14.00\">AuthorList</text>\n</g>\n<!-- Article&#45;&gt;AuthorList -->\n<g id=\"edge17\" class=\"edge\">\n<title>Article-&gt;AuthorList</title>\n<path fill=\"none\" stroke=\"black\" d=\"M1404.18,-291.11C1407.11,-289.93 1410.08,-288.86 1413,-288 1526.53,-254.32 1561.59,-278.51 1677,-252 1678.28,-251.71 1679.56,-251.4 1680.86,-251.07\"/>\n<polygon fill=\"black\" stroke=\"black\" points=\"1682.16,-254.34 1690.88,-248.33 1680.31,-247.59 1682.16,-254.34\"/>\n</g>\n<!-- DataBankList -->\n<g id=\"node21\" class=\"node\">\n<title>DataBankList</title>\n<polygon fill=\"none\" stroke=\"black\" points=\"1877,-252 1785,-252 1785,-216 1877,-216 1877,-252\"/>\n<text text-anchor=\"middle\" x=\"1831\" y=\"-230.3\" font-family=\"Times,serif\" font-size=\"14.00\">DataBankList</text>\n</g>\n<!-- Article&#45;&gt;DataBankList -->\n<g id=\"edge20\" class=\"edge\">\n<title>Article-&gt;DataBankList</title>\n<path fill=\"none\" stroke=\"black\" d=\"M1404.14,-291C1407.08,-289.85 1410.07,-288.81 1413,-288 1566.05,-245.64 1615.08,-282.52 1774.78,-251.97\"/>\n<polygon fill=\"black\" stroke=\"black\" points=\"1775.83,-255.34 1784.96,-249.97 1774.47,-248.47 1775.83,-255.34\"/>\n</g>\n<!-- ELocationID -->\n<g id=\"node23\" class=\"node\">\n<title>ELocationID</title>\n<polygon fill=\"none\" stroke=\"black\" points=\"834.5,-252 747.5,-252 747.5,-216 834.5,-216 834.5,-252\"/>\n<text text-anchor=\"middle\" x=\"791\" y=\"-230.3\" font-family=\"Times,serif\" font-size=\"14.00\">ELocationID</text>\n</g>\n<!-- Article&#45;&gt;ELocationID -->\n<g id=\"edge23\" class=\"edge\">\n<title>Article-&gt;ELocationID</title>\n<path fill=\"none\" stroke=\"black\" d=\"M1349.8,-304.32C1272.12,-301.95 1042.76,-292 844.77,-251.88\"/>\n<polygon fill=\"black\" stroke=\"black\" points=\"845.27,-248.41 834.77,-249.83 843.86,-255.27 845.27,-248.41\"/>\n</g>\n<!-- GrantList -->\n<g id=\"node24\" class=\"node\">\n<title>GrantList</title>\n<polygon fill=\"none\" stroke=\"black\" points=\"1963,-252 1895,-252 1895,-216 1963,-216 1963,-252\"/>\n<text text-anchor=\"middle\" x=\"1929\" y=\"-230.3\" font-family=\"Times,serif\" font-size=\"14.00\">GrantList</text>\n</g>\n<!-- Article&#45;&gt;GrantList -->\n<g id=\"edge24\" class=\"edge\">\n<title>Article-&gt;GrantList</title>\n<path fill=\"none\" stroke=\"black\" d=\"M1404.13,-290.93C1407.07,-289.79 1410.06,-288.78 1413,-288 1613.64,-234.93 1678.52,-297.28 1884.63,-251.89\"/>\n<polygon fill=\"black\" stroke=\"black\" points=\"1885.57,-255.27 1894.55,-249.65 1884.03,-248.44 1885.57,-255.27\"/>\n</g>\n<!-- Journal -->\n<g id=\"node26\" class=\"node\">\n<title>Journal</title>\n<polygon fill=\"none\" stroke=\"black\" points=\"1537,-252 1481,-252 1481,-216 1537,-216 1537,-252\"/>\n<text text-anchor=\"middle\" x=\"1509\" y=\"-230.3\" font-family=\"Times,serif\" font-size=\"14.00\">Journal</text>\n</g>\n<!-- Article&#45;&gt;Journal -->\n<g id=\"edge27\" class=\"edge\">\n<title>Article-&gt;Journal</title>\n<path fill=\"none\" stroke=\"black\" d=\"M1404.03,-290.67C1423.57,-280.31 1450.2,-266.18 1471.75,-254.75\"/>\n<polygon fill=\"black\" stroke=\"black\" points=\"1473.44,-257.82 1480.64,-250.04 1470.16,-251.63 1473.44,-257.82\"/>\n</g>\n<!-- Language -->\n<g id=\"node39\" class=\"node\">\n<title>Language</title>\n<polygon fill=\"none\" stroke=\"black\" points=\"923,-252 853,-252 853,-216 923,-216 923,-252\"/>\n<text text-anchor=\"middle\" x=\"888\" y=\"-230.3\" font-family=\"Times,serif\" font-size=\"14.00\">Language</text>\n</g>\n<!-- Article&#45;&gt;Language -->\n<g id=\"edge43\" class=\"edge\">\n<title>Article-&gt;Language</title>\n<path fill=\"none\" stroke=\"black\" d=\"M1350,-304.13C1281.4,-301.42 1095.02,-291.01 933.41,-252\"/>\n<polygon fill=\"black\" stroke=\"black\" points=\"933.84,-248.5 923.3,-249.51 932.17,-255.3 933.84,-248.5\"/>\n</g>\n<!-- Pagination -->\n<g id=\"node40\" class=\"node\">\n<title>Pagination</title>\n<polygon fill=\"none\" stroke=\"black\" points=\"1015,-252 941,-252 941,-216 1015,-216 1015,-252\"/>\n<text text-anchor=\"middle\" x=\"978\" y=\"-230.3\" font-family=\"Times,serif\" font-size=\"14.00\">Pagination</text>\n</g>\n<!-- Article&#45;&gt;Pagination -->\n<g id=\"edge44\" class=\"edge\">\n<title>Article-&gt;Pagination</title>\n<path fill=\"none\" stroke=\"black\" d=\"M1349.61,-302.81C1291.28,-297.75 1150.53,-283.37 1024.98,-251.96\"/>\n<polygon fill=\"black\" stroke=\"black\" points=\"1025.76,-248.55 1015.2,-249.48 1024.03,-255.33 1025.76,-248.55\"/>\n</g>\n<!-- PublicationTypeList -->\n<g id=\"node42\" class=\"node\">\n<title>PublicationTypeList</title>\n<polygon fill=\"none\" stroke=\"black\" points=\"1159,-252 1033,-252 1033,-216 1159,-216 1159,-252\"/>\n<text text-anchor=\"middle\" x=\"1096\" y=\"-230.3\" font-family=\"Times,serif\" font-size=\"14.00\">PublicationTypeList</text>\n</g>\n<!-- Article&#45;&gt;PublicationTypeList -->\n<g id=\"edge46\" class=\"edge\">\n<title>Article-&gt;PublicationTypeList</title>\n<path fill=\"none\" stroke=\"black\" d=\"M1349.8,-298.22C1308.46,-287.93 1228.37,-267.98 1169.17,-253.23\"/>\n<polygon fill=\"black\" stroke=\"black\" points=\"1169.67,-249.74 1159.12,-250.72 1167.98,-256.54 1169.67,-249.74\"/>\n</g>\n<!-- VernacularTitle -->\n<g id=\"node44\" class=\"node\">\n<title>VernacularTitle</title>\n<polygon fill=\"none\" stroke=\"black\" points=\"1278.5,-252 1177.5,-252 1177.5,-216 1278.5,-216 1278.5,-252\"/>\n<text text-anchor=\"middle\" x=\"1228\" y=\"-230.3\" font-family=\"Times,serif\" font-size=\"14.00\">VernacularTitle</text>\n</g>\n<!-- Article&#45;&gt;VernacularTitle -->\n<g id=\"edge48\" class=\"edge\">\n<title>Article-&gt;VernacularTitle</title>\n<path fill=\"none\" stroke=\"black\" d=\"M1349.67,-292.16C1328.44,-282.19 1298.53,-268.13 1273.67,-256.46\"/>\n<polygon fill=\"black\" stroke=\"black\" points=\"1274.96,-253.2 1264.42,-252.11 1271.99,-259.53 1274.96,-253.2\"/>\n</g>\n<!-- AbstractText -->\n<g id=\"node10\" class=\"node\">\n<title>AbstractText</title>\n<polygon fill=\"none\" stroke=\"black\" points=\"1261,-180 1175,-180 1175,-144 1261,-144 1261,-180\"/>\n<text text-anchor=\"middle\" x=\"1218\" y=\"-158.3\" font-family=\"Times,serif\" font-size=\"14.00\">AbstractText</text>\n</g>\n<!-- Abstract&#45;&gt;AbstractText -->\n<g id=\"edge9\" class=\"edge\">\n<title>Abstract-&gt;AbstractText</title>\n<path fill=\"none\" stroke=\"black\" d=\"M1400.69,-219.29C1397.77,-218.13 1394.84,-217.02 1392,-216 1341.59,-197.92 1325.65,-196.85 1270.66,-180.14\"/>\n<polygon fill=\"black\" stroke=\"black\" points=\"1271.69,-176.79 1261.1,-177.2 1269.63,-183.48 1271.69,-176.79\"/>\n</g>\n<!-- CopyrightInformation -->\n<g id=\"node11\" class=\"node\">\n<title>CopyrightInformation</title>\n<polygon fill=\"none\" stroke=\"black\" points=\"1156.5,-180 1019.5,-180 1019.5,-144 1156.5,-144 1156.5,-180\"/>\n<text text-anchor=\"middle\" x=\"1088\" y=\"-158.3\" font-family=\"Times,serif\" font-size=\"14.00\">CopyrightInformation</text>\n</g>\n<!-- Abstract&#45;&gt;CopyrightInformation -->\n<g id=\"edge10\" class=\"edge\">\n<title>Abstract-&gt;CopyrightInformation</title>\n<path fill=\"none\" stroke=\"black\" d=\"M1400.82,-218.9C1397.87,-217.82 1394.9,-216.83 1392,-216 1297.3,-188.78 1267.79,-198.19 1166.86,-180.07\"/>\n<polygon fill=\"black\" stroke=\"black\" points=\"1167.33,-176.6 1156.86,-178.23 1166.06,-183.48 1167.33,-176.6\"/>\n</g>\n<!-- @DateType -->\n<g id=\"node13\" class=\"node\">\n<title>@DateType</title>\n<polygon fill=\"none\" stroke=\"black\" points=\"1700,-36 1618,-36 1618,0 1700,0 1700,-36\"/>\n<text text-anchor=\"middle\" x=\"1659\" y=\"-14.3\" font-family=\"Times,serif\" font-size=\"14.00\">@DateType</text>\n</g>\n<!-- ArticleDate&#45;&gt;@DateType -->\n<g id=\"edge12\" class=\"edge\">\n<title>ArticleDate-&gt;@DateType</title>\n<path fill=\"none\" stroke=\"black\" d=\"M1668.79,-71.7C1667.35,-63.98 1665.63,-54.71 1664.04,-46.11\"/>\n<polygon fill=\"black\" stroke=\"black\" points=\"1667.44,-45.3 1662.18,-36.1 1660.56,-46.58 1667.44,-45.3\"/>\n</g>\n<!-- Day -->\n<g id=\"node14\" class=\"node\">\n<title>Day</title>\n<polygon fill=\"none\" stroke=\"black\" points=\"1194,-36 1140,-36 1140,0 1194,0 1194,-36\"/>\n<text text-anchor=\"middle\" x=\"1167\" y=\"-14.3\" font-family=\"Times,serif\" font-size=\"14.00\">Day</text>\n</g>\n<!-- ArticleDate&#45;&gt;Day -->\n<g id=\"edge13\" class=\"edge\">\n<title>ArticleDate-&gt;Day</title>\n<path fill=\"none\" stroke=\"black\" d=\"M1631.82,-74.52C1628.52,-73.58 1625.22,-72.73 1622,-72 1542.45,-54.06 1298.32,-30.85 1204.38,-22.32\"/>\n<polygon fill=\"black\" stroke=\"black\" points=\"1204.48,-18.82 1194.21,-21.41 1203.85,-25.79 1204.48,-18.82\"/>\n</g>\n<!-- Month -->\n<g id=\"node15\" class=\"node\">\n<title>Month</title>\n<polygon fill=\"none\" stroke=\"black\" points=\"1416,-36 1362,-36 1362,0 1416,0 1416,-36\"/>\n<text text-anchor=\"middle\" x=\"1389\" y=\"-14.3\" font-family=\"Times,serif\" font-size=\"14.00\">Month</text>\n</g>\n<!-- ArticleDate&#45;&gt;Month -->\n<g id=\"edge14\" class=\"edge\">\n<title>ArticleDate-&gt;Month</title>\n<path fill=\"none\" stroke=\"black\" d=\"M1632,-74.99C1628.63,-73.94 1625.26,-72.92 1622,-72 1553.53,-52.63 1472.21,-35.42 1426,-26.18\"/>\n<polygon fill=\"black\" stroke=\"black\" points=\"1426.63,-22.73 1416.14,-24.22 1425.27,-29.6 1426.63,-22.73\"/>\n</g>\n<!-- Year -->\n<g id=\"node16\" class=\"node\">\n<title>Year</title>\n<polygon fill=\"none\" stroke=\"black\" points=\"1563,-36 1509,-36 1509,0 1563,0 1563,-36\"/>\n<text text-anchor=\"middle\" x=\"1536\" y=\"-14.3\" font-family=\"Times,serif\" font-size=\"14.00\">Year</text>\n</g>\n<!-- ArticleDate&#45;&gt;Year -->\n<g id=\"edge15\" class=\"edge\">\n<title>ArticleDate-&gt;Year</title>\n<path fill=\"none\" stroke=\"black\" d=\"M1638.73,-71.88C1618.68,-61.56 1593.13,-48.4 1572.52,-37.8\"/>\n<polygon fill=\"black\" stroke=\"black\" points=\"1573.93,-34.59 1563.44,-33.12 1570.73,-40.81 1573.93,-34.59\"/>\n</g>\n<!-- @CompleteYN -->\n<g id=\"node19\" class=\"node\">\n<title>@CompleteYN</title>\n<polygon fill=\"none\" stroke=\"black\" points=\"1956,-180 1854,-180 1854,-144 1956,-144 1956,-180\"/>\n<text text-anchor=\"middle\" x=\"1905\" y=\"-158.3\" font-family=\"Times,serif\" font-size=\"14.00\">@CompleteYN</text>\n</g>\n<!-- AuthorList&#45;&gt;@CompleteYN -->\n<g id=\"edge18\" class=\"edge\">\n<title>AuthorList-&gt;@CompleteYN</title>\n<path fill=\"none\" stroke=\"black\" d=\"M1767.19,-217.81C1792.24,-207.85 1825.32,-194.69 1852.79,-183.76\"/>\n<polygon fill=\"black\" stroke=\"black\" points=\"1854.25,-186.95 1862.25,-180 1851.67,-180.45 1854.25,-186.95\"/>\n</g>\n<!-- Author -->\n<g id=\"node20\" class=\"node\">\n<title>Author</title>\n<polygon fill=\"none\" stroke=\"black\" points=\"1746.5,-180 1691.5,-180 1691.5,-144 1746.5,-144 1746.5,-180\"/>\n<text text-anchor=\"middle\" x=\"1719\" y=\"-158.3\" font-family=\"Times,serif\" font-size=\"14.00\">Author</text>\n</g>\n<!-- AuthorList&#45;&gt;Author -->\n<g id=\"edge19\" class=\"edge\">\n<title>AuthorList-&gt;Author</title>\n<path fill=\"none\" stroke=\"black\" d=\"M1726.53,-215.7C1725.43,-207.98 1724.1,-198.71 1722.87,-190.11\"/>\n<polygon fill=\"black\" stroke=\"black\" points=\"1726.32,-189.51 1721.44,-180.1 1719.39,-190.5 1726.32,-189.51\"/>\n</g>\n<!-- DataBankList&#45;&gt;@CompleteYN -->\n<g id=\"edge21\" class=\"edge\">\n<title>DataBankList-&gt;@CompleteYN</title>\n<path fill=\"none\" stroke=\"black\" d=\"M1849.29,-215.7C1858.43,-207.05 1869.64,-196.45 1879.6,-187.03\"/>\n<polygon fill=\"black\" stroke=\"black\" points=\"1882.06,-189.52 1886.92,-180.1 1877.25,-184.43 1882.06,-189.52\"/>\n</g>\n<!-- DataBank -->\n<g id=\"node22\" class=\"node\">\n<title>DataBank</title>\n<polygon fill=\"none\" stroke=\"black\" points=\"1835.5,-180 1764.5,-180 1764.5,-144 1835.5,-144 1835.5,-180\"/>\n<text text-anchor=\"middle\" x=\"1800\" y=\"-158.3\" font-family=\"Times,serif\" font-size=\"14.00\">DataBank</text>\n</g>\n<!-- DataBankList&#45;&gt;DataBank -->\n<g id=\"edge22\" class=\"edge\">\n<title>DataBankList-&gt;DataBank</title>\n<path fill=\"none\" stroke=\"black\" d=\"M1823.34,-215.7C1819.81,-207.73 1815.54,-198.1 1811.63,-189.26\"/>\n<polygon fill=\"black\" stroke=\"black\" points=\"1814.82,-187.83 1807.57,-180.1 1808.42,-190.67 1814.82,-187.83\"/>\n</g>\n<!-- GrantList&#45;&gt;@CompleteYN -->\n<g id=\"edge25\" class=\"edge\">\n<title>GrantList-&gt;@CompleteYN</title>\n<path fill=\"none\" stroke=\"black\" d=\"M1923.07,-215.7C1920.39,-207.9 1917.17,-198.51 1914.2,-189.83\"/>\n<polygon fill=\"black\" stroke=\"black\" points=\"1917.42,-188.43 1910.86,-180.1 1910.8,-190.7 1917.42,-188.43\"/>\n</g>\n<!-- Grant -->\n<g id=\"node25\" class=\"node\">\n<title>Grant</title>\n<polygon fill=\"none\" stroke=\"black\" points=\"2028,-180 1974,-180 1974,-144 2028,-144 2028,-180\"/>\n<text text-anchor=\"middle\" x=\"2001\" y=\"-158.3\" font-family=\"Times,serif\" font-size=\"14.00\">Grant</text>\n</g>\n<!-- GrantList&#45;&gt;Grant -->\n<g id=\"edge26\" class=\"edge\">\n<title>GrantList-&gt;Grant</title>\n<path fill=\"none\" stroke=\"black\" d=\"M1946.8,-215.7C1955.6,-207.14 1966.38,-196.66 1976,-187.3\"/>\n<polygon fill=\"black\" stroke=\"black\" points=\"1978.68,-189.58 1983.41,-180.1 1973.8,-184.57 1978.68,-189.58\"/>\n</g>\n<!-- ISOAbbreviation -->\n<g id=\"node27\" class=\"node\">\n<title>ISOAbbreviation</title>\n<polygon fill=\"none\" stroke=\"black\" points=\"1461,-180 1351,-180 1351,-144 1461,-144 1461,-180\"/>\n<text text-anchor=\"middle\" x=\"1406\" y=\"-158.3\" font-family=\"Times,serif\" font-size=\"14.00\">ISOAbbreviation</text>\n</g>\n<!-- Journal&#45;&gt;ISOAbbreviation -->\n<g id=\"edge28\" class=\"edge\">\n<title>Journal-&gt;ISOAbbreviation</title>\n<path fill=\"none\" stroke=\"black\" d=\"M1483.8,-215.88C1470.59,-206.89 1454.21,-195.76 1439.89,-186.03\"/>\n<polygon fill=\"black\" stroke=\"black\" points=\"1441.53,-182.92 1431.29,-180.19 1437.6,-188.71 1441.53,-182.92\"/>\n</g>\n<!-- ISSN -->\n<g id=\"node28\" class=\"node\">\n<title>ISSN</title>\n<polygon fill=\"none\" stroke=\"black\" points=\"1533,-180 1479,-180 1479,-144 1533,-144 1533,-180\"/>\n<text text-anchor=\"middle\" x=\"1506\" y=\"-158.3\" font-family=\"Times,serif\" font-size=\"14.00\">ISSN</text>\n</g>\n<!-- Journal&#45;&gt;ISSN -->\n<g id=\"edge29\" class=\"edge\">\n<title>Journal-&gt;ISSN</title>\n<path fill=\"none\" stroke=\"black\" d=\"M1508.26,-215.7C1507.93,-207.98 1507.53,-198.71 1507.16,-190.11\"/>\n<polygon fill=\"black\" stroke=\"black\" points=\"1510.66,-189.95 1506.73,-180.1 1503.66,-190.25 1510.66,-189.95\"/>\n</g>\n<!-- JournalIssue -->\n<g id=\"node31\" class=\"node\">\n<title>JournalIssue</title>\n<polygon fill=\"none\" stroke=\"black\" points=\"1635,-180 1551,-180 1551,-144 1635,-144 1635,-180\"/>\n<text text-anchor=\"middle\" x=\"1593\" y=\"-158.3\" font-family=\"Times,serif\" font-size=\"14.00\">JournalIssue</text>\n</g>\n<!-- Journal&#45;&gt;JournalIssue -->\n<g id=\"edge32\" class=\"edge\">\n<title>Journal-&gt;JournalIssue</title>\n<path fill=\"none\" stroke=\"black\" d=\"M1529.76,-215.7C1540.24,-206.97 1553.11,-196.24 1564.5,-186.75\"/>\n<polygon fill=\"black\" stroke=\"black\" points=\"1567.03,-189.19 1572.47,-180.1 1562.55,-183.82 1567.03,-189.19\"/>\n</g>\n<!-- Title -->\n<g id=\"node38\" class=\"node\">\n<title>Title</title>\n<polygon fill=\"none\" stroke=\"black\" points=\"1333,-180 1279,-180 1279,-144 1333,-144 1333,-180\"/>\n<text text-anchor=\"middle\" x=\"1306\" y=\"-158.3\" font-family=\"Times,serif\" font-size=\"14.00\">Title</text>\n</g>\n<!-- Journal&#45;&gt;Title -->\n<g id=\"edge42\" class=\"edge\">\n<title>Journal-&gt;Title</title>\n<path fill=\"none\" stroke=\"black\" d=\"M1480.91,-219.53C1477.93,-218.27 1474.92,-217.07 1472,-216 1418.55,-196.46 1400.08,-200.39 1342.84,-179.98\"/>\n<polygon fill=\"black\" stroke=\"black\" points=\"1343.9,-176.64 1333.31,-176.49 1341.5,-183.21 1343.9,-176.64\"/>\n</g>\n<!-- #text -->\n<g id=\"node29\" class=\"node\">\n<title>#text</title>\n<polygon fill=\"none\" stroke=\"black\" points=\"1244,-108 1190,-108 1190,-72 1244,-72 1244,-108\"/>\n<text text-anchor=\"middle\" x=\"1217\" y=\"-86.3\" font-family=\"Times,serif\" font-size=\"14.00\">#text</text>\n</g>\n<!-- ISSN&#45;&gt;#text -->\n<g id=\"edge30\" class=\"edge\">\n<title>ISSN-&gt;#text</title>\n<path fill=\"none\" stroke=\"black\" d=\"M1478.8,-147.2C1475.87,-146 1472.9,-144.91 1470,-144 1379.69,-115.79 1348.34,-135.77 1253.86,-107.76\"/>\n<polygon fill=\"black\" stroke=\"black\" points=\"1254.79,-104.39 1244.2,-104.8 1252.74,-111.08 1254.79,-104.39\"/>\n</g>\n<!-- @IssnType -->\n<g id=\"node30\" class=\"node\">\n<title>@IssnType</title>\n<polygon fill=\"none\" stroke=\"black\" points=\"1340,-108 1262,-108 1262,-72 1340,-72 1340,-108\"/>\n<text text-anchor=\"middle\" x=\"1301\" y=\"-86.3\" font-family=\"Times,serif\" font-size=\"14.00\">@IssnType</text>\n</g>\n<!-- ISSN&#45;&gt;@IssnType -->\n<g id=\"edge31\" class=\"edge\">\n<title>ISSN-&gt;@IssnType</title>\n<path fill=\"none\" stroke=\"black\" d=\"M1478.67,-147.57C1475.77,-146.3 1472.84,-145.09 1470,-144 1420.46,-125.06 1404.13,-125.28 1350.02,-108.22\"/>\n<polygon fill=\"black\" stroke=\"black\" points=\"1350.83,-104.81 1340.24,-105.08 1348.69,-111.47 1350.83,-104.81\"/>\n</g>\n<!-- @CitedMedium -->\n<g id=\"node32\" class=\"node\">\n<title>@CitedMedium</title>\n<polygon fill=\"none\" stroke=\"black\" points=\"1464,-108 1358,-108 1358,-72 1464,-72 1464,-108\"/>\n<text text-anchor=\"middle\" x=\"1411\" y=\"-86.3\" font-family=\"Times,serif\" font-size=\"14.00\">@CitedMedium</text>\n</g>\n<!-- JournalIssue&#45;&gt;@CitedMedium -->\n<g id=\"edge33\" class=\"edge\">\n<title>JournalIssue-&gt;@CitedMedium</title>\n<path fill=\"none\" stroke=\"black\" d=\"M1550.79,-144.76C1525.14,-134.9 1492.16,-122.22 1464.67,-111.64\"/>\n<polygon fill=\"black\" stroke=\"black\" points=\"1465.79,-108.32 1455.2,-108 1463.28,-114.86 1465.79,-108.32\"/>\n</g>\n<!-- Issue -->\n<g id=\"node33\" class=\"node\">\n<title>Issue</title>\n<polygon fill=\"none\" stroke=\"black\" points=\"1536,-108 1482,-108 1482,-72 1536,-72 1536,-108\"/>\n<text text-anchor=\"middle\" x=\"1509\" y=\"-86.3\" font-family=\"Times,serif\" font-size=\"14.00\">Issue</text>\n</g>\n<!-- JournalIssue&#45;&gt;Issue -->\n<g id=\"edge34\" class=\"edge\">\n<title>JournalIssue-&gt;Issue</title>\n<path fill=\"none\" stroke=\"black\" d=\"M1572.24,-143.7C1561.76,-134.97 1548.89,-124.24 1537.5,-114.75\"/>\n<polygon fill=\"black\" stroke=\"black\" points=\"1539.45,-111.82 1529.53,-108.1 1534.97,-117.19 1539.45,-111.82\"/>\n</g>\n<!-- PubDate -->\n<g id=\"node34\" class=\"node\">\n<title>PubDate</title>\n<polygon fill=\"none\" stroke=\"black\" points=\"1793.5,-108 1730.5,-108 1730.5,-72 1793.5,-72 1793.5,-108\"/>\n<text text-anchor=\"middle\" x=\"1762\" y=\"-86.3\" font-family=\"Times,serif\" font-size=\"14.00\">PubDate</text>\n</g>\n<!-- JournalIssue&#45;&gt;PubDate -->\n<g id=\"edge35\" class=\"edge\">\n<title>JournalIssue-&gt;PubDate</title>\n<path fill=\"none\" stroke=\"black\" d=\"M1634.22,-143.94C1657.25,-134.4 1686.69,-122.21 1720.92,-108.03\"/>\n<polygon fill=\"black\" stroke=\"black\" points=\"1722.32,-111.24 1730.22,-104.18 1719.64,-104.77 1722.32,-111.24\"/>\n</g>\n<!-- Volume -->\n<g id=\"node37\" class=\"node\">\n<title>Volume</title>\n<polygon fill=\"none\" stroke=\"black\" points=\"1613.5,-108 1554.5,-108 1554.5,-72 1613.5,-72 1613.5,-108\"/>\n<text text-anchor=\"middle\" x=\"1584\" y=\"-86.3\" font-family=\"Times,serif\" font-size=\"14.00\">Volume</text>\n</g>\n<!-- JournalIssue&#45;&gt;Volume -->\n<g id=\"edge41\" class=\"edge\">\n<title>JournalIssue-&gt;Volume</title>\n<path fill=\"none\" stroke=\"black\" d=\"M1590.78,-143.7C1589.78,-135.98 1588.59,-126.71 1587.49,-118.11\"/>\n<polygon fill=\"black\" stroke=\"black\" points=\"1590.95,-117.58 1586.2,-108.1 1584,-118.47 1590.95,-117.58\"/>\n</g>\n<!-- PubDate&#45;&gt;Day -->\n<g id=\"edge36\" class=\"edge\">\n<title>PubDate-&gt;Day</title>\n<path fill=\"none\" stroke=\"black\" d=\"M1730.08,-74.71C1727.05,-73.67 1723.99,-72.75 1721,-72 1708.4,-68.86 1326.26,-33.62 1204.14,-22.4\"/>\n<polygon fill=\"black\" stroke=\"black\" points=\"1204.41,-18.91 1194.14,-21.49 1203.77,-25.89 1204.41,-18.91\"/>\n</g>\n<!-- PubDate&#45;&gt;Month -->\n<g id=\"edge38\" class=\"edge\">\n<title>PubDate-&gt;Month</title>\n<path fill=\"none\" stroke=\"black\" d=\"M1730.48,-75.07C1727.31,-73.93 1724.11,-72.88 1721,-72 1706.88,-68.01 1509.98,-37.57 1426.25,-24.71\"/>\n<polygon fill=\"black\" stroke=\"black\" points=\"1426.57,-21.21 1416.15,-23.16 1425.5,-28.13 1426.57,-21.21\"/>\n</g>\n<!-- PubDate&#45;&gt;Year -->\n<g id=\"edge40\" class=\"edge\">\n<title>PubDate-&gt;Year</title>\n<path fill=\"none\" stroke=\"black\" d=\"M1730.35,-75.46C1727.21,-74.24 1724.06,-73.07 1721,-72 1670.55,-54.38 1610.91,-38.08 1573.27,-28.34\"/>\n<polygon fill=\"black\" stroke=\"black\" points=\"1573.82,-24.87 1563.26,-25.77 1572.08,-31.65 1573.82,-24.87\"/>\n</g>\n<!-- MedlineDate -->\n<g id=\"node35\" class=\"node\">\n<title>MedlineDate</title>\n<polygon fill=\"none\" stroke=\"black\" points=\"1806,-36 1718,-36 1718,0 1806,0 1806,-36\"/>\n<text text-anchor=\"middle\" x=\"1762\" y=\"-14.3\" font-family=\"Times,serif\" font-size=\"14.00\">MedlineDate</text>\n</g>\n<!-- PubDate&#45;&gt;MedlineDate -->\n<g id=\"edge37\" class=\"edge\">\n<title>PubDate-&gt;MedlineDate</title>\n<path fill=\"none\" stroke=\"black\" d=\"M1762,-71.7C1762,-63.98 1762,-54.71 1762,-46.11\"/>\n<polygon fill=\"black\" stroke=\"black\" points=\"1765.5,-46.1 1762,-36.1 1758.5,-46.1 1765.5,-46.1\"/>\n</g>\n<!-- Season -->\n<g id=\"node36\" class=\"node\">\n<title>Season</title>\n<polygon fill=\"none\" stroke=\"black\" points=\"1879.5,-36 1824.5,-36 1824.5,0 1879.5,0 1879.5,-36\"/>\n<text text-anchor=\"middle\" x=\"1852\" y=\"-14.3\" font-family=\"Times,serif\" font-size=\"14.00\">Season</text>\n</g>\n<!-- PubDate&#45;&gt;Season -->\n<g id=\"edge39\" class=\"edge\">\n<title>PubDate-&gt;Season</title>\n<path fill=\"none\" stroke=\"black\" d=\"M1784.25,-71.7C1795.58,-62.88 1809.53,-52.03 1821.82,-42.47\"/>\n<polygon fill=\"black\" stroke=\"black\" points=\"1824.26,-45.01 1830.01,-36.1 1819.97,-39.48 1824.26,-45.01\"/>\n</g>\n<!-- MedlinePgn -->\n<g id=\"node41\" class=\"node\">\n<title>MedlinePgn</title>\n<polygon fill=\"none\" stroke=\"black\" points=\"878.5,-180 795.5,-180 795.5,-144 878.5,-144 878.5,-180\"/>\n<text text-anchor=\"middle\" x=\"837\" y=\"-158.3\" font-family=\"Times,serif\" font-size=\"14.00\">MedlinePgn</text>\n</g>\n<!-- Pagination&#45;&gt;MedlinePgn -->\n<g id=\"edge45\" class=\"edge\">\n<title>Pagination-&gt;MedlinePgn</title>\n<path fill=\"none\" stroke=\"black\" d=\"M943.51,-215.88C924.56,-206.47 900.87,-194.71 880.64,-184.67\"/>\n<polygon fill=\"black\" stroke=\"black\" points=\"882.14,-181.5 871.63,-180.19 879.03,-187.77 882.14,-181.5\"/>\n</g>\n<!-- PublicationType -->\n<g id=\"node43\" class=\"node\">\n<title>PublicationType</title>\n<polygon fill=\"none\" stroke=\"black\" points=\"1001.5,-180 896.5,-180 896.5,-144 1001.5,-144 1001.5,-180\"/>\n<text text-anchor=\"middle\" x=\"949\" y=\"-158.3\" font-family=\"Times,serif\" font-size=\"14.00\">PublicationType</text>\n</g>\n<!-- PublicationTypeList&#45;&gt;PublicationType -->\n<g id=\"edge47\" class=\"edge\">\n<title>PublicationTypeList-&gt;PublicationType</title>\n<path fill=\"none\" stroke=\"black\" d=\"M1060.04,-215.88C1040.12,-206.39 1015.18,-194.51 993.98,-184.42\"/>\n<polygon fill=\"black\" stroke=\"black\" points=\"995.38,-181.21 984.84,-180.07 992.37,-187.53 995.38,-181.21\"/>\n</g>\n<!-- Chemical -->\n<g id=\"node46\" class=\"node\">\n<title>Chemical</title>\n<polygon fill=\"none\" stroke=\"black\" points=\"2050.5,-252 1981.5,-252 1981.5,-216 2050.5,-216 2050.5,-252\"/>\n<text text-anchor=\"middle\" x=\"2016\" y=\"-230.3\" font-family=\"Times,serif\" font-size=\"14.00\">Chemical</text>\n</g>\n<!-- ChemicalList&#45;&gt;Chemical -->\n<g id=\"edge50\" class=\"edge\">\n<title>ChemicalList-&gt;Chemical</title>\n<path fill=\"none\" stroke=\"black\" d=\"M1512.18,-289.96C1515.15,-289.23 1518.11,-288.56 1521,-288 1715.19,-250.18 1774.06,-295.2 1971.41,-251.69\"/>\n<polygon fill=\"black\" stroke=\"black\" points=\"1972.23,-255.09 1981.22,-249.48 1970.7,-248.27 1972.23,-255.09\"/>\n</g>\n<!-- CommentsCorrections -->\n<g id=\"node50\" class=\"node\">\n<title>CommentsCorrections</title>\n<polygon fill=\"none\" stroke=\"black\" points=\"2209,-252 2069,-252 2069,-216 2209,-216 2209,-252\"/>\n<text text-anchor=\"middle\" x=\"2139\" y=\"-230.3\" font-family=\"Times,serif\" font-size=\"14.00\">CommentsCorrections</text>\n</g>\n<!-- CommentsCorrectionsList&#45;&gt;CommentsCorrections -->\n<g id=\"edge54\" class=\"edge\">\n<title>CommentsCorrectionsList-&gt;CommentsCorrections</title>\n<path fill=\"none\" stroke=\"black\" d=\"M1947.57,-287.97C1983.69,-277.97 2029.49,-265.3 2067.24,-254.85\"/>\n<polygon fill=\"black\" stroke=\"black\" points=\"2068.45,-258.15 2077.16,-252.11 2066.59,-251.4 2068.45,-258.15\"/>\n</g>\n<!-- DateCompleted&#45;&gt;Day -->\n<g id=\"edge56\" class=\"edge\">\n<title>DateCompleted-&gt;Day</title>\n<path fill=\"none\" stroke=\"black\" d=\"M1053.69,-71.88C1077.02,-60.99 1107.1,-46.95 1130.41,-36.07\"/>\n<polygon fill=\"black\" stroke=\"black\" points=\"1132.04,-39.18 1139.62,-31.78 1129.08,-32.83 1132.04,-39.18\"/>\n</g>\n<!-- DateCompleted&#45;&gt;Month -->\n<g id=\"edge57\" class=\"edge\">\n<title>DateCompleted-&gt;Month</title>\n<path fill=\"none\" stroke=\"black\" d=\"M1068.29,-74.07C1071.23,-73.34 1074.15,-72.64 1077,-72 1175.33,-49.79 1292.98,-32.19 1351.75,-24\"/>\n<polygon fill=\"black\" stroke=\"black\" points=\"1352.25,-27.47 1361.68,-22.63 1351.29,-20.53 1352.25,-27.47\"/>\n</g>\n<!-- DateCompleted&#45;&gt;Year -->\n<g id=\"edge58\" class=\"edge\">\n<title>DateCompleted-&gt;Year</title>\n<path fill=\"none\" stroke=\"black\" d=\"M1068.25,-73.85C1071.2,-73.17 1074.13,-72.55 1077,-72 1229.71,-42.7 1270.77,-55.78 1425,-36 1449.59,-32.85 1477.15,-28.63 1498.65,-25.19\"/>\n<polygon fill=\"black\" stroke=\"black\" points=\"1499.37,-28.62 1508.68,-23.56 1498.25,-21.7 1499.37,-28.62\"/>\n</g>\n<!-- DateRevised&#45;&gt;Day -->\n<g id=\"edge60\" class=\"edge\">\n<title>DateRevised-&gt;Day</title>\n<path fill=\"none\" stroke=\"black\" d=\"M1138.39,-71.7C1142.76,-63.64 1148.06,-53.89 1152.9,-44.98\"/>\n<polygon fill=\"black\" stroke=\"black\" points=\"1156.02,-46.56 1157.71,-36.1 1149.87,-43.22 1156.02,-46.56\"/>\n</g>\n<!-- DateRevised&#45;&gt;Month -->\n<g id=\"edge61\" class=\"edge\">\n<title>DateRevised-&gt;Month</title>\n<path fill=\"none\" stroke=\"black\" d=\"M1172.06,-74.68C1175.08,-73.75 1178.08,-72.85 1181,-72 1240.38,-54.75 1310.17,-37.59 1351.93,-27.66\"/>\n<polygon fill=\"black\" stroke=\"black\" points=\"1353,-31 1361.92,-25.29 1351.38,-24.19 1353,-31\"/>\n</g>\n<!-- DateRevised&#45;&gt;Year -->\n<g id=\"edge62\" class=\"edge\">\n<title>DateRevised-&gt;Year</title>\n<path fill=\"none\" stroke=\"black\" d=\"M1172.26,-74.25C1175.2,-73.44 1178.13,-72.67 1181,-72 1287.7,-46.88 1316.6,-52.3 1425,-36 1449.52,-32.31 1477.07,-28.09 1498.6,-24.78\"/>\n<polygon fill=\"black\" stroke=\"black\" points=\"1499.29,-28.22 1508.64,-23.23 1498.22,-21.3 1499.29,-28.22\"/>\n</g>\n<!-- Investigator -->\n<g id=\"node54\" class=\"node\">\n<title>Investigator</title>\n<polygon fill=\"none\" stroke=\"black\" points=\"2308.5,-252 2227.5,-252 2227.5,-216 2308.5,-216 2308.5,-252\"/>\n<text text-anchor=\"middle\" x=\"2268\" y=\"-230.3\" font-family=\"Times,serif\" font-size=\"14.00\">Investigator</text>\n</g>\n<!-- InvestigatorList&#45;&gt;Investigator -->\n<g id=\"edge64\" class=\"edge\">\n<title>InvestigatorList-&gt;Investigator</title>\n<path fill=\"none\" stroke=\"black\" d=\"M2204.01,-287.7C2214.72,-278.88 2227.89,-268.03 2239.5,-258.47\"/>\n<polygon fill=\"black\" stroke=\"black\" points=\"2241.74,-261.16 2247.23,-252.1 2237.29,-255.76 2241.74,-261.16\"/>\n</g>\n<!-- @ValidYN -->\n<g id=\"node55\" class=\"node\">\n<title>@ValidYN</title>\n<polygon fill=\"none\" stroke=\"black\" points=\"2123.5,-180 2046.5,-180 2046.5,-144 2123.5,-144 2123.5,-180\"/>\n<text text-anchor=\"middle\" x=\"2085\" y=\"-158.3\" font-family=\"Times,serif\" font-size=\"14.00\">@ValidYN</text>\n</g>\n<!-- Investigator&#45;&gt;@ValidYN -->\n<g id=\"edge65\" class=\"edge\">\n<title>Investigator-&gt;@ValidYN</title>\n<path fill=\"none\" stroke=\"black\" d=\"M2227.39,-217.46C2199.57,-206.83 2162.56,-192.67 2133.24,-181.45\"/>\n<polygon fill=\"black\" stroke=\"black\" points=\"2134.21,-178.08 2123.62,-177.77 2131.71,-184.61 2134.21,-178.08\"/>\n</g>\n<!-- AffiliationInfo -->\n<g id=\"node56\" class=\"node\">\n<title>AffiliationInfo</title>\n<polygon fill=\"none\" stroke=\"black\" points=\"2238,-180 2142,-180 2142,-144 2238,-144 2238,-180\"/>\n<text text-anchor=\"middle\" x=\"2190\" y=\"-158.3\" font-family=\"Times,serif\" font-size=\"14.00\">AffiliationInfo</text>\n</g>\n<!-- Investigator&#45;&gt;AffiliationInfo -->\n<g id=\"edge66\" class=\"edge\">\n<title>Investigator-&gt;AffiliationInfo</title>\n<path fill=\"none\" stroke=\"black\" d=\"M2248.72,-215.7C2239.08,-207.05 2227.27,-196.45 2216.77,-187.03\"/>\n<polygon fill=\"black\" stroke=\"black\" points=\"2218.84,-184.18 2209.06,-180.1 2214.16,-189.39 2218.84,-184.18\"/>\n</g>\n<!-- ForeName -->\n<g id=\"node58\" class=\"node\">\n<title>ForeName</title>\n<polygon fill=\"none\" stroke=\"black\" points=\"2330,-180 2256,-180 2256,-144 2330,-144 2330,-180\"/>\n<text text-anchor=\"middle\" x=\"2293\" y=\"-158.3\" font-family=\"Times,serif\" font-size=\"14.00\">ForeName</text>\n</g>\n<!-- Investigator&#45;&gt;ForeName -->\n<g id=\"edge68\" class=\"edge\">\n<title>Investigator-&gt;ForeName</title>\n<path fill=\"none\" stroke=\"black\" d=\"M2274.18,-215.7C2277,-207.81 2280.39,-198.3 2283.52,-189.55\"/>\n<polygon fill=\"black\" stroke=\"black\" points=\"2286.82,-190.7 2286.89,-180.1 2280.23,-188.34 2286.82,-190.7\"/>\n</g>\n<!-- Initials -->\n<g id=\"node59\" class=\"node\">\n<title>Initials</title>\n<polygon fill=\"none\" stroke=\"black\" points=\"2402,-180 2348,-180 2348,-144 2402,-144 2402,-180\"/>\n<text text-anchor=\"middle\" x=\"2375\" y=\"-158.3\" font-family=\"Times,serif\" font-size=\"14.00\">Initials</text>\n</g>\n<!-- Investigator&#45;&gt;Initials -->\n<g id=\"edge69\" class=\"edge\">\n<title>Investigator-&gt;Initials</title>\n<path fill=\"none\" stroke=\"black\" d=\"M2294.18,-215.88C2308.04,-206.81 2325.24,-195.55 2340.21,-185.76\"/>\n<polygon fill=\"black\" stroke=\"black\" points=\"2342.27,-188.59 2348.72,-180.19 2338.44,-182.74 2342.27,-188.59\"/>\n</g>\n<!-- LastName -->\n<g id=\"node60\" class=\"node\">\n<title>LastName</title>\n<polygon fill=\"none\" stroke=\"black\" points=\"2493.5,-180 2420.5,-180 2420.5,-144 2493.5,-144 2493.5,-180\"/>\n<text text-anchor=\"middle\" x=\"2457\" y=\"-158.3\" font-family=\"Times,serif\" font-size=\"14.00\">LastName</text>\n</g>\n<!-- Investigator&#45;&gt;LastName -->\n<g id=\"edge70\" class=\"edge\">\n<title>Investigator-&gt;LastName</title>\n<path fill=\"none\" stroke=\"black\" d=\"M2308.55,-217.98C2338.62,-206.84 2379.67,-191.64 2410.98,-180.04\"/>\n<polygon fill=\"black\" stroke=\"black\" points=\"2412.2,-183.33 2420.36,-176.57 2409.77,-176.76 2412.2,-183.33\"/>\n</g>\n<!-- Suffix -->\n<g id=\"node61\" class=\"node\">\n<title>Suffix</title>\n<polygon fill=\"none\" stroke=\"black\" points=\"2566,-180 2512,-180 2512,-144 2566,-144 2566,-180\"/>\n<text text-anchor=\"middle\" x=\"2539\" y=\"-158.3\" font-family=\"Times,serif\" font-size=\"14.00\">Suffix</text>\n</g>\n<!-- Investigator&#45;&gt;Suffix -->\n<g id=\"edge71\" class=\"edge\">\n<title>Investigator-&gt;Suffix</title>\n<path fill=\"none\" stroke=\"black\" d=\"M2308.5,-218.45C2311.37,-217.58 2314.22,-216.75 2317,-216 2397.88,-194.22 2422.27,-205.67 2502,-180 2502.1,-179.97 2502.2,-179.93 2502.3,-179.9\"/>\n<polygon fill=\"black\" stroke=\"black\" points=\"2503.65,-183.13 2511.81,-176.37 2501.22,-176.57 2503.65,-183.13\"/>\n</g>\n<!-- Affiliation -->\n<g id=\"node57\" class=\"node\">\n<title>Affiliation</title>\n<polygon fill=\"none\" stroke=\"black\" points=\"2227,-108 2153,-108 2153,-72 2227,-72 2227,-108\"/>\n<text text-anchor=\"middle\" x=\"2190\" y=\"-86.3\" font-family=\"Times,serif\" font-size=\"14.00\">Affiliation</text>\n</g>\n<!-- AffiliationInfo&#45;&gt;Affiliation -->\n<g id=\"edge67\" class=\"edge\">\n<title>AffiliationInfo-&gt;Affiliation</title>\n<path fill=\"none\" stroke=\"black\" d=\"M2190,-143.7C2190,-135.98 2190,-126.71 2190,-118.11\"/>\n<polygon fill=\"black\" stroke=\"black\" points=\"2193.5,-118.1 2190,-108.1 2186.5,-118.1 2193.5,-118.1\"/>\n</g>\n<!-- KeywordList&#45;&gt;@Owner -->\n<g id=\"edge73\" class=\"edge\">\n<title>KeywordList-&gt;@Owner</title>\n<path fill=\"none\" stroke=\"black\" d=\"M202.2,-287.7C193.4,-279.14 182.62,-268.66 173,-259.3\"/>\n<polygon fill=\"black\" stroke=\"black\" points=\"175.2,-256.57 165.59,-252.1 170.32,-261.58 175.2,-256.57\"/>\n</g>\n<!-- Keyword -->\n<g id=\"node63\" class=\"node\">\n<title>Keyword</title>\n<polygon fill=\"none\" stroke=\"black\" points=\"266.5,-252 199.5,-252 199.5,-216 266.5,-216 266.5,-252\"/>\n<text text-anchor=\"middle\" x=\"233\" y=\"-230.3\" font-family=\"Times,serif\" font-size=\"14.00\">Keyword</text>\n</g>\n<!-- KeywordList&#45;&gt;Keyword -->\n<g id=\"edge74\" class=\"edge\">\n<title>KeywordList-&gt;Keyword</title>\n<path fill=\"none\" stroke=\"black\" d=\"M223.21,-287.7C224.65,-279.98 226.37,-270.71 227.96,-262.11\"/>\n<polygon fill=\"black\" stroke=\"black\" points=\"231.44,-262.58 229.82,-252.1 224.56,-261.3 231.44,-262.58\"/>\n</g>\n<!-- Country -->\n<g id=\"node65\" class=\"node\">\n<title>Country</title>\n<polygon fill=\"none\" stroke=\"black\" points=\"2500.5,-252 2439.5,-252 2439.5,-216 2500.5,-216 2500.5,-252\"/>\n<text text-anchor=\"middle\" x=\"2470\" y=\"-230.3\" font-family=\"Times,serif\" font-size=\"14.00\">Country</text>\n</g>\n<!-- MedlineJournalInfo&#45;&gt;Country -->\n<g id=\"edge76\" class=\"edge\">\n<title>MedlineJournalInfo-&gt;Country</title>\n<path fill=\"none\" stroke=\"black\" d=\"M2409.02,-287.7C2419.13,-278.97 2431.54,-268.24 2442.52,-258.75\"/>\n<polygon fill=\"black\" stroke=\"black\" points=\"2444.93,-261.29 2450.21,-252.1 2440.35,-255.99 2444.93,-261.29\"/>\n</g>\n<!-- ISSNLinking -->\n<g id=\"node66\" class=\"node\">\n<title>ISSNLinking</title>\n<polygon fill=\"none\" stroke=\"black\" points=\"2607.5,-252 2518.5,-252 2518.5,-216 2607.5,-216 2607.5,-252\"/>\n<text text-anchor=\"middle\" x=\"2563\" y=\"-230.3\" font-family=\"Times,serif\" font-size=\"14.00\">ISSNLinking</text>\n</g>\n<!-- MedlineJournalInfo&#45;&gt;ISSNLinking -->\n<g id=\"edge77\" class=\"edge\">\n<title>MedlineJournalInfo-&gt;ISSNLinking</title>\n<path fill=\"none\" stroke=\"black\" d=\"M2431.57,-287.88C2455.56,-278.22 2485.73,-266.09 2511.1,-255.88\"/>\n<polygon fill=\"black\" stroke=\"black\" points=\"2512.6,-259.05 2520.57,-252.07 2509.99,-252.55 2512.6,-259.05\"/>\n</g>\n<!-- MedlineTA -->\n<g id=\"node67\" class=\"node\">\n<title>MedlineTA</title>\n<polygon fill=\"none\" stroke=\"black\" points=\"2706,-252 2626,-252 2626,-216 2706,-216 2706,-252\"/>\n<text text-anchor=\"middle\" x=\"2666\" y=\"-230.3\" font-family=\"Times,serif\" font-size=\"14.00\">MedlineTA</text>\n</g>\n<!-- MedlineJournalInfo&#45;&gt;MedlineTA -->\n<g id=\"edge78\" class=\"edge\">\n<title>MedlineJournalInfo-&gt;MedlineTA</title>\n<path fill=\"none\" stroke=\"black\" d=\"M2451.83,-290.15C2454.93,-289.42 2458,-288.7 2461,-288 2529.86,-271.87 2547.99,-271.41 2616,-252 2616.1,-251.97 2616.2,-251.94 2616.31,-251.91\"/>\n<polygon fill=\"black\" stroke=\"black\" points=\"2617.43,-255.23 2625.99,-248.99 2615.41,-248.53 2617.43,-255.23\"/>\n</g>\n<!-- NlmUniqueID -->\n<g id=\"node68\" class=\"node\">\n<title>NlmUniqueID</title>\n<polygon fill=\"none\" stroke=\"black\" points=\"2421.5,-252 2326.5,-252 2326.5,-216 2421.5,-216 2421.5,-252\"/>\n<text text-anchor=\"middle\" x=\"2374\" y=\"-230.3\" font-family=\"Times,serif\" font-size=\"14.00\">NlmUniqueID</text>\n</g>\n<!-- MedlineJournalInfo&#45;&gt;NlmUniqueID -->\n<g id=\"edge79\" class=\"edge\">\n<title>MedlineJournalInfo-&gt;NlmUniqueID</title>\n<path fill=\"none\" stroke=\"black\" d=\"M2385.29,-287.7C2383.64,-279.98 2381.65,-270.71 2379.81,-262.11\"/>\n<polygon fill=\"black\" stroke=\"black\" points=\"2383.18,-261.15 2377.67,-252.1 2376.34,-262.62 2383.18,-261.15\"/>\n</g>\n<!-- MeshHeading -->\n<g id=\"node70\" class=\"node\">\n<title>MeshHeading</title>\n<polygon fill=\"none\" stroke=\"black\" points=\"2817.5,-252 2724.5,-252 2724.5,-216 2817.5,-216 2817.5,-252\"/>\n<text text-anchor=\"middle\" x=\"2771\" y=\"-230.3\" font-family=\"Times,serif\" font-size=\"14.00\">MeshHeading</text>\n</g>\n<!-- MeshHeadingList&#45;&gt;MeshHeading -->\n<g id=\"edge81\" class=\"edge\">\n<title>MeshHeadingList-&gt;MeshHeading</title>\n<path fill=\"none\" stroke=\"black\" d=\"M2584.27,-289.18C2619.22,-279.44 2665.07,-266.55 2714.37,-252.16\"/>\n<polygon fill=\"black\" stroke=\"black\" points=\"2715.65,-255.43 2724.27,-249.26 2713.69,-248.71 2715.65,-255.43\"/>\n</g>\n<!-- PMID&#45;&gt;#text -->\n<g id=\"edge84\" class=\"edge\">\n<title>PMID-&gt;#text</title>\n<path fill=\"none\" stroke=\"black\" d=\"M719.89,-287.88C722.76,-253 734.88,-174.42 786,-144 859.23,-100.42 1080.58,-129.12 1180.05,-107.44\"/>\n<polygon fill=\"black\" stroke=\"black\" points=\"1180.99,-110.81 1189.86,-105.02 1179.31,-104.02 1180.99,-110.81\"/>\n</g>\n<!-- @Version -->\n<g id=\"node73\" class=\"node\">\n<title>@Version</title>\n<polygon fill=\"none\" stroke=\"black\" points=\"690.5,-252 619.5,-252 619.5,-216 690.5,-216 690.5,-252\"/>\n<text text-anchor=\"middle\" x=\"655\" y=\"-230.3\" font-family=\"Times,serif\" font-size=\"14.00\">@Version</text>\n</g>\n<!-- PMID&#45;&gt;@Version -->\n<g id=\"edge85\" class=\"edge\">\n<title>PMID-&gt;@Version</title>\n<path fill=\"none\" stroke=\"black\" d=\"M703.18,-287.7C695.43,-279.22 685.96,-268.86 677.48,-259.58\"/>\n<polygon fill=\"black\" stroke=\"black\" points=\"679.97,-257.12 670.64,-252.1 674.8,-261.85 679.97,-257.12\"/>\n</g>\n<!-- PersonalNameSubject -->\n<g id=\"node75\" class=\"node\">\n<title>PersonalNameSubject</title>\n<polygon fill=\"none\" stroke=\"black\" points=\"2972.5,-252 2835.5,-252 2835.5,-216 2972.5,-216 2972.5,-252\"/>\n<text text-anchor=\"middle\" x=\"2904\" y=\"-230.3\" font-family=\"Times,serif\" font-size=\"14.00\">PersonalNameSubject</text>\n</g>\n<!-- PersonalNameSubjectList&#45;&gt;PersonalNameSubject -->\n<g id=\"edge87\" class=\"edge\">\n<title>PersonalNameSubjectList-&gt;PersonalNameSubject</title>\n<path fill=\"none\" stroke=\"black\" d=\"M2866.36,-287.7C2872.23,-279.47 2879.37,-269.48 2885.84,-260.42\"/>\n<polygon fill=\"black\" stroke=\"black\" points=\"2888.82,-262.28 2891.78,-252.1 2883.12,-258.21 2888.82,-262.28\"/>\n</g>\n<!-- SupplMeshName -->\n<g id=\"node77\" class=\"node\">\n<title>SupplMeshName</title>\n<polygon fill=\"none\" stroke=\"black\" points=\"3103,-252 2991,-252 2991,-216 3103,-216 3103,-252\"/>\n<text text-anchor=\"middle\" x=\"3047\" y=\"-230.3\" font-family=\"Times,serif\" font-size=\"14.00\">SupplMeshName</text>\n</g>\n<!-- SupplMeshList&#45;&gt;SupplMeshName -->\n<g id=\"edge89\" class=\"edge\">\n<title>SupplMeshList-&gt;SupplMeshName</title>\n<path fill=\"none\" stroke=\"black\" d=\"M3034.96,-287.7C3036.72,-279.98 3038.84,-270.71 3040.8,-262.11\"/>\n<polygon fill=\"black\" stroke=\"black\" points=\"3044.27,-262.63 3043.09,-252.1 3037.45,-261.07 3044.27,-262.63\"/>\n</g>\n</g>\n</svg>"
          },
          "metadata": {},
          "execution_count": 25
        }
      ]
    },
    {
      "cell_type": "code",
      "source": [
        "SVG(filename='/mnt/data/pubmed_data_schema.svg')"
      ],
      "metadata": {
        "colab": {
          "base_uri": "https://localhost:8080/",
          "height": 369
        },
        "id": "agNEXiIdPYyS",
        "outputId": "58d047a2-5b57-4b54-8e4a-35167fbebf83"
      },
      "execution_count": null,
      "outputs": [
        {
          "output_type": "execute_result",
          "data": {
            "text/plain": [
              "<IPython.core.display.SVG object>"
            ],
            "image/svg+xml": "<svg xmlns=\"http://www.w3.org/2000/svg\" xmlns:xlink=\"http://www.w3.org/1999/xlink\" width=\"530pt\" height=\"260pt\" viewBox=\"0.00 0.00 529.50 260.00\">\n<g id=\"graph0\" class=\"graph\" transform=\"scale(1 1) rotate(0) translate(4 256)\">\n<title>%3</title>\n<polygon fill=\"white\" stroke=\"transparent\" points=\"-4,4 -4,-256 525.5,-256 525.5,4 -4,4\"/>\n<!-- ArticleIdList -->\n<g id=\"node1\" class=\"node\">\n<title>ArticleIdList</title>\n<polygon fill=\"none\" stroke=\"black\" points=\"181.5,-180 95.5,-180 95.5,-144 181.5,-144 181.5,-180\"/>\n<text text-anchor=\"middle\" x=\"138.5\" y=\"-158.3\" font-family=\"Times,serif\" font-size=\"14.00\">ArticleIdList</text>\n</g>\n<!-- ArticleId -->\n<g id=\"node3\" class=\"node\">\n<title>ArticleId</title>\n<polygon fill=\"none\" stroke=\"black\" points=\"163,-108 98,-108 98,-72 163,-72 163,-108\"/>\n<text text-anchor=\"middle\" x=\"130.5\" y=\"-86.3\" font-family=\"Times,serif\" font-size=\"14.00\">ArticleId</text>\n</g>\n<!-- ArticleIdList&#45;&gt;ArticleId -->\n<g id=\"edge2\" class=\"edge\">\n<title>ArticleIdList-&gt;ArticleId</title>\n<path fill=\"none\" stroke=\"black\" d=\"M136.52,-143.7C135.64,-135.98 134.58,-126.71 133.6,-118.11\"/>\n<polygon fill=\"black\" stroke=\"black\" points=\"137.07,-117.64 132.45,-108.1 130.11,-118.44 137.07,-117.64\"/>\n</g>\n<!-- PubmedData -->\n<g id=\"node2\" class=\"node\">\n<title>PubmedData</title>\n<ellipse fill=\"none\" stroke=\"black\" cx=\"283.5\" cy=\"-234\" rx=\"56.59\" ry=\"18\"/>\n<text text-anchor=\"middle\" x=\"283.5\" y=\"-230.3\" font-family=\"Times,serif\" font-size=\"14.00\">PubmedData</text>\n</g>\n<!-- PubmedData&#45;&gt;ArticleIdList -->\n<g id=\"edge1\" class=\"edge\">\n<title>PubmedData-&gt;ArticleIdList</title>\n<path fill=\"none\" stroke=\"black\" d=\"M253.81,-218.67C233.42,-208.82 205.99,-195.58 183,-184.48\"/>\n<polygon fill=\"black\" stroke=\"black\" points=\"184.31,-181.23 173.78,-180.03 181.26,-187.53 184.31,-181.23\"/>\n</g>\n<!-- History -->\n<g id=\"node4\" class=\"node\">\n<title>History</title>\n<polygon fill=\"none\" stroke=\"black\" points=\"261,-180 204,-180 204,-144 261,-144 261,-180\"/>\n<text text-anchor=\"middle\" x=\"232.5\" y=\"-158.3\" font-family=\"Times,serif\" font-size=\"14.00\">History</text>\n</g>\n<!-- PubmedData&#45;&gt;History -->\n<g id=\"edge3\" class=\"edge\">\n<title>PubmedData-&gt;History</title>\n<path fill=\"none\" stroke=\"black\" d=\"M271.41,-216.41C265.37,-208.12 257.92,-197.89 251.16,-188.62\"/>\n<polygon fill=\"black\" stroke=\"black\" points=\"253.93,-186.47 245.21,-180.45 248.27,-190.59 253.93,-186.47\"/>\n</g>\n<!-- PublicationStatus -->\n<g id=\"node12\" class=\"node\">\n<title>PublicationStatus</title>\n<polygon fill=\"none\" stroke=\"black\" points=\"390,-180 279,-180 279,-144 390,-144 390,-180\"/>\n<text text-anchor=\"middle\" x=\"334.5\" y=\"-158.3\" font-family=\"Times,serif\" font-size=\"14.00\">PublicationStatus</text>\n</g>\n<!-- PubmedData&#45;&gt;PublicationStatus -->\n<g id=\"edge11\" class=\"edge\">\n<title>PubmedData-&gt;PublicationStatus</title>\n<path fill=\"none\" stroke=\"black\" d=\"M295.59,-216.41C301.63,-208.12 309.08,-197.89 315.84,-188.62\"/>\n<polygon fill=\"black\" stroke=\"black\" points=\"318.73,-190.59 321.79,-180.45 313.07,-186.47 318.73,-190.59\"/>\n</g>\n<!-- ReferenceList -->\n<g id=\"node13\" class=\"node\">\n<title>ReferenceList</title>\n<polygon fill=\"none\" stroke=\"black\" points=\"500.5,-180 408.5,-180 408.5,-144 500.5,-144 500.5,-180\"/>\n<text text-anchor=\"middle\" x=\"454.5\" y=\"-158.3\" font-family=\"Times,serif\" font-size=\"14.00\">ReferenceList</text>\n</g>\n<!-- PubmedData&#45;&gt;ReferenceList -->\n<g id=\"edge12\" class=\"edge\">\n<title>PubmedData-&gt;ReferenceList</title>\n<path fill=\"none\" stroke=\"black\" d=\"M316.88,-219.34C341.39,-209.3 375.16,-195.48 403.11,-184.04\"/>\n<polygon fill=\"black\" stroke=\"black\" points=\"404.8,-187.13 412.73,-180.1 402.15,-180.65 404.8,-187.13\"/>\n</g>\n<!-- PubMedPubDate -->\n<g id=\"node5\" class=\"node\">\n<title>PubMedPubDate</title>\n<polygon fill=\"none\" stroke=\"black\" points=\"291.5,-108 181.5,-108 181.5,-72 291.5,-72 291.5,-108\"/>\n<text text-anchor=\"middle\" x=\"236.5\" y=\"-86.3\" font-family=\"Times,serif\" font-size=\"14.00\">PubMedPubDate</text>\n</g>\n<!-- History&#45;&gt;PubMedPubDate -->\n<g id=\"edge4\" class=\"edge\">\n<title>History-&gt;PubMedPubDate</title>\n<path fill=\"none\" stroke=\"black\" d=\"M233.49,-143.7C233.93,-135.98 234.46,-126.71 234.95,-118.11\"/>\n<polygon fill=\"black\" stroke=\"black\" points=\"238.45,-118.29 235.52,-108.1 231.46,-117.89 238.45,-118.29\"/>\n</g>\n<!-- @PubStatus -->\n<g id=\"node6\" class=\"node\">\n<title>@PubStatus</title>\n<polygon fill=\"none\" stroke=\"black\" points=\"83,-36 0,-36 0,0 83,0 83,-36\"/>\n<text text-anchor=\"middle\" x=\"41.5\" y=\"-14.3\" font-family=\"Times,serif\" font-size=\"14.00\">@PubStatus</text>\n</g>\n<!-- PubMedPubDate&#45;&gt;@PubStatus -->\n<g id=\"edge5\" class=\"edge\">\n<title>PubMedPubDate-&gt;@PubStatus</title>\n<path fill=\"none\" stroke=\"black\" d=\"M188.8,-71.88C159.72,-61.44 122.58,-48.1 92.86,-37.44\"/>\n<polygon fill=\"black\" stroke=\"black\" points=\"93.68,-34.01 83.09,-33.93 91.32,-40.6 93.68,-34.01\"/>\n</g>\n<!-- Day -->\n<g id=\"node7\" class=\"node\">\n<title>Day</title>\n<polygon fill=\"none\" stroke=\"black\" points=\"155.5,-36 101.5,-36 101.5,0 155.5,0 155.5,-36\"/>\n<text text-anchor=\"middle\" x=\"128.5\" y=\"-14.3\" font-family=\"Times,serif\" font-size=\"14.00\">Day</text>\n</g>\n<!-- PubMedPubDate&#45;&gt;Day -->\n<g id=\"edge6\" class=\"edge\">\n<title>PubMedPubDate-&gt;Day</title>\n<path fill=\"none\" stroke=\"black\" d=\"M210.08,-71.88C196.09,-62.81 178.72,-51.55 163.61,-41.76\"/>\n<polygon fill=\"black\" stroke=\"black\" points=\"165.32,-38.69 155.02,-36.19 161.51,-44.57 165.32,-38.69\"/>\n</g>\n<!-- Hour -->\n<g id=\"node8\" class=\"node\">\n<title>Hour</title>\n<polygon fill=\"none\" stroke=\"black\" points=\"227.5,-36 173.5,-36 173.5,0 227.5,0 227.5,-36\"/>\n<text text-anchor=\"middle\" x=\"200.5\" y=\"-14.3\" font-family=\"Times,serif\" font-size=\"14.00\">Hour</text>\n</g>\n<!-- PubMedPubDate&#45;&gt;Hour -->\n<g id=\"edge7\" class=\"edge\">\n<title>PubMedPubDate-&gt;Hour</title>\n<path fill=\"none\" stroke=\"black\" d=\"M227.6,-71.7C223.5,-63.73 218.55,-54.1 214.01,-45.26\"/>\n<polygon fill=\"black\" stroke=\"black\" points=\"216.98,-43.4 209.3,-36.1 210.76,-46.6 216.98,-43.4\"/>\n</g>\n<!-- Minute -->\n<g id=\"node9\" class=\"node\">\n<title>Minute</title>\n<polygon fill=\"none\" stroke=\"black\" points=\"301.5,-36 245.5,-36 245.5,0 301.5,0 301.5,-36\"/>\n<text text-anchor=\"middle\" x=\"273.5\" y=\"-14.3\" font-family=\"Times,serif\" font-size=\"14.00\">Minute</text>\n</g>\n<!-- PubMedPubDate&#45;&gt;Minute -->\n<g id=\"edge8\" class=\"edge\">\n<title>PubMedPubDate-&gt;Minute</title>\n<path fill=\"none\" stroke=\"black\" d=\"M245.65,-71.7C249.9,-63.64 255.06,-53.89 259.77,-44.98\"/>\n<polygon fill=\"black\" stroke=\"black\" points=\"262.88,-46.58 264.46,-36.1 256.69,-43.31 262.88,-46.58\"/>\n</g>\n<!-- Month -->\n<g id=\"node10\" class=\"node\">\n<title>Month</title>\n<polygon fill=\"none\" stroke=\"black\" points=\"373.5,-36 319.5,-36 319.5,0 373.5,0 373.5,-36\"/>\n<text text-anchor=\"middle\" x=\"346.5\" y=\"-14.3\" font-family=\"Times,serif\" font-size=\"14.00\">Month</text>\n</g>\n<!-- PubMedPubDate&#45;&gt;Month -->\n<g id=\"edge9\" class=\"edge\">\n<title>PubMedPubDate-&gt;Month</title>\n<path fill=\"none\" stroke=\"black\" d=\"M263.41,-71.88C277.66,-62.81 295.35,-51.55 310.74,-41.76\"/>\n<polygon fill=\"black\" stroke=\"black\" points=\"312.93,-44.51 319.49,-36.19 309.17,-38.61 312.93,-44.51\"/>\n</g>\n<!-- Year -->\n<g id=\"node11\" class=\"node\">\n<title>Year</title>\n<polygon fill=\"none\" stroke=\"black\" points=\"445.5,-36 391.5,-36 391.5,0 445.5,0 445.5,-36\"/>\n<text text-anchor=\"middle\" x=\"418.5\" y=\"-14.3\" font-family=\"Times,serif\" font-size=\"14.00\">Year</text>\n</g>\n<!-- PubMedPubDate&#45;&gt;Year -->\n<g id=\"edge10\" class=\"edge\">\n<title>PubMedPubDate-&gt;Year</title>\n<path fill=\"none\" stroke=\"black\" d=\"M286.95,-71.99C313.06,-62.88 345.58,-51.08 382.12,-35.99\"/>\n<polygon fill=\"black\" stroke=\"black\" points=\"383.61,-39.16 391.49,-32.08 380.92,-32.7 383.61,-39.16\"/>\n</g>\n<!-- Reference -->\n<g id=\"node14\" class=\"node\">\n<title>Reference</title>\n<polygon fill=\"none\" stroke=\"black\" points=\"449,-108 378,-108 378,-72 449,-72 449,-108\"/>\n<text text-anchor=\"middle\" x=\"413.5\" y=\"-86.3\" font-family=\"Times,serif\" font-size=\"14.00\">Reference</text>\n</g>\n<!-- ReferenceList&#45;&gt;Reference -->\n<g id=\"edge13\" class=\"edge\">\n<title>ReferenceList-&gt;Reference</title>\n<path fill=\"none\" stroke=\"black\" d=\"M444.37,-143.7C439.65,-135.64 433.94,-125.89 428.72,-116.98\"/>\n<polygon fill=\"black\" stroke=\"black\" points=\"431.59,-114.96 423.52,-108.1 425.55,-118.5 431.59,-114.96\"/>\n</g>\n<!-- Title -->\n<g id=\"node15\" class=\"node\">\n<title>Title</title>\n<polygon fill=\"none\" stroke=\"black\" points=\"521.5,-108 467.5,-108 467.5,-72 521.5,-72 521.5,-108\"/>\n<text text-anchor=\"middle\" x=\"494.5\" y=\"-86.3\" font-family=\"Times,serif\" font-size=\"14.00\">Title</text>\n</g>\n<!-- ReferenceList&#45;&gt;Title -->\n<g id=\"edge14\" class=\"edge\">\n<title>ReferenceList-&gt;Title</title>\n<path fill=\"none\" stroke=\"black\" d=\"M464.39,-143.7C468.99,-135.64 474.56,-125.89 479.65,-116.98\"/>\n<polygon fill=\"black\" stroke=\"black\" points=\"482.8,-118.52 484.73,-108.1 476.73,-115.05 482.8,-118.52\"/>\n</g>\n</g>\n</svg>"
          },
          "metadata": {},
          "execution_count": 26
        }
      ]
    },
    {
      "cell_type": "code",
      "source": [
        "from google.colab import drive\n",
        "drive.mount('/content/drive')\n",
        "\n",
        "from pyspark.sql import SparkSession\n",
        "\n",
        "spark = SparkSession.builder.appName(\"LoadParquet\").getOrCreate()\n",
        "\n",
        "parquet_path = \"/content/drive/MyDrive/pubmed_data/df_pubmed.parquet\"\n",
        "\n",
        "df_pubmed = spark.read.parquet(parquet_path)\n",
        "\n",
        "df_pubmed.show()"
      ],
      "metadata": {
        "colab": {
          "base_uri": "https://localhost:8080/"
        },
        "id": "tTR1CHpWRs6j",
        "outputId": "599d88eb-a4cc-42f8-dcc1-eaf046d4c01b"
      },
      "execution_count": null,
      "outputs": [
        {
          "output_type": "stream",
          "name": "stdout",
          "text": [
            "Drive already mounted at /content/drive; to attempt to forcibly remount, call drive.mount(\"/content/drive\", force_remount=True).\n",
            "+--------+--------------------+--------------------+----+--------------------+--------------------+--------------------+--------------------+--------------------+--------------------+--------------------+---------------+--------------------+-------------+--------------------+--------------------+--------------------+--------------------+--------------------+--------------------+--------+--------+--------+----------------------+\n",
            "|    PMID|               Title|            Abstract|Year|             Journal|     PublicationType|        Author_Names|            Keywords|        MeshHeadings|           Chemicals|          References|Reference_Count|             CitedBy|CitedBy_Count|     abstract_tokens|     keywords_tokens|         mesh_tokens|     chemical_tokens|      cleaned_tokens|      stemmed_tokens|BP_count|MF_count|CC_count|matched_go_terms_clean|\n",
            "+--------+--------------------+--------------------+----+--------------------+--------------------+--------------------+--------------------+--------------------+--------------------+--------------------+---------------+--------------------+-------------+--------------------+--------------------+--------------------+--------------------+--------------------+--------------------+--------+--------+--------+----------------------+\n",
            "|28299189|Molecular signatu...|Anastasis (Greek ...|2017|       F1000Research|   [Journal Article]|[Ho Man Tang, C C...|[Anastasis, Cell ...|                NULL|                  []|[{Nat Rev Cancer....|            128|[39015566, 389209...|           36|[anastasis, (gree...|[anastasis, cell,...|                NULL|                  []|[molecular, signa...|[molecular, signa...|       5|       0|       0|  [{angiogenesis, 0...|\n",
            "|28343686|Analysis of essen...|In the fields of ...|2017|Journal of chroma...|   [Journal Article]|[Cecilia Cagliero...|[Essential oils, ...|[Allergens  [, an...|[Allergens, Ionic...|                  []|              0|[38542972, 319368...|            3|[in, the, fields,...|[essential, oils,...|[allergens, farne...|[allergens, ionic...|[analysis, essent...|[analysi, essenti...|       0|       0|       1|  [{rent complex, 2...|\n",
            "|28343692|Quality survey of...|The aim of the pr...|2017|The Science of th...|   [Journal Article]|[Laurine Le Coado...|[Bottled water, E...|[Drinking Water  ...|[Drinking Water, ...|                  []|              0|[39339365, 392810...|            5|[the, aim, of, th...|[bottled, water, ...|[drinking, water,...|[drinking, water,...|[quality, survey,...|[qualiti, survey,...|       1|       0|       0|    [{transport, 0.0}]|\n",
            "|28343695|Treatment with mi...|Sepsis remains on...|2017|             Surgery|[Journal Article,...|[Laura W Hansen, ...|                  []|[Animals  , Anima...|[Antigens, Surfac...|[{Nature. 2002 Ma...|             34|[39128910, 383326...|           10|[sepsis, remains,...|                  []|[animals, animals...|[antigens, surfac...|[treatment, milk,...|[treatment, milk,...|       3|       0|       0|  [{inflammatory re...|\n",
            "|28343697|Modeling Avoidanc...|Serious and debil...|2017|Biological psychi...|   [Journal Article]|[Anahit Mkrtchian...|[Anxiety, Avoidan...|[Adolescent  , Ad...|                  []|[{PLoS Comput Bio...|             28|[39467981, 392427...|           52|[serious, and, de...|[anxiety, avoidan...|[adolescent, adul...|                  []|[modeling, avoida...|[model, avoid, mo...|       2|       0|       0|  [{behavior, 0.0},...|\n",
            "|28343699|Operative innovat...|Farokh R. Demehri...|NULL|             Surgery|   [Journal Article]|  [Farokh R Demehri]|                  []|[Clinical Compete...|                  []|                  []|              0|                  []|            0|[farokh, r., deme...|                  []|[clinical, compet...|                  []|[operative, innov...|[oper, innov, dev...|       0|       0|       0|                    []|\n",
            "|28343700|Fostering a cultu...|Dr McCarthy is a ...|NULL|             Surgery|   [Journal Article]| [Daniel P McCarthy]|                  []|[Academic Medical...|                  []|                  []|              0|          [33936918]|            1|[dr, mccarthy, is...|                  []|[academic, medica...|                  []|[fostering, cultu...|[foster, cultur, ...|       0|       0|       1|        [{aster, 2.0}]|\n",
            "|28343703|Knowledge, attitu...|We conducted a st...|2017|American journal ...|   [Journal Article]|[Kaiwen Ni, Bingb...|[Environmental cl...|[Adult  , China  ...|                  []|                  []|              0|[39563364, 390152...|            6|[we, conducted, a...|[environmental, c...|[adult, china, cr...|                  []|[knowledge, attit...|[knowledg, attitu...|       0|       0|       0|                    []|\n",
            "|28343712|Nurses on health ...|Nurses are key ch...|2017|     Nursing outlook|[Journal Article,...|[Lisa J Sundean, ...|[Board of directo...|[Adult  , Decisio...|                  []|                  []|              0|[35040669, 345016...|            3|[nurses, are, key...|[board, of, direc...|[adult, decision,...|                  []|[nurses, health, ...|[nurs, health, ca...|       0|       0|       0|                    []|\n",
            "|28343713|Workplace violenc...|Cultural and stru...|2017|     Nursing outlook|   [Journal Article]| [Sara Rizvi Jafree]|[Nurses, Pakistan...|[Adult  , Cross-S...|                  []|                  []|              0|[39240832, 389546...|           17|[cultural, and, s...|[nurses, pakistan...|[adult, cross-sec...|                  []|[workplace, viole...|[workplac, violen...|       0|       0|       0|                    []|\n",
            "|28343716|Transformation of...|Zinc contaminatio...|2017|Environmental pol...|   [Journal Article]|[Man Jae Kwon, Ma...|[Acid extraction,...|[Aluminum Silicat...|[Aluminum Silicat...|                  []|              0|[39309634, 329719...|            3|[zinc, contaminat...|[acid, extraction...|[aluminum, silica...|[aluminum, silica...|[transformation, ...|[transform, zinc,...|       1|       0|       0|    [{transport, 0.0}]|\n",
            "|28343718|[Comparative eval...|Raynaud's phenome...|2017|Annales de dermat...|[Comparative Stud...|[J Moreau, A-S Du...|[Capillaroscopie,...|[Adult  , Aged  ,...|                  []|                  []|              0|                  []|            0|[raynaud's, pheno...|[capillaroscopie,...|[adult, aged, age...|                  []|[comparative, eva...|[compar, evalu, d...|       0|       0|       0|                    []|\n",
            "|28343719|Thromboprophylaxi...|The use of thromb...|2017|Trends in pharmac...|   [Journal Article]|[Giuseppe Lippi, ...|                  []|[Anticoagulants  ...|    [Anticoagulants]|                  []|              0|          [29633739]|            1|[the, use, of, th...|                  []|[anticoagulants, ...|    [anticoagulants]|[thromboprophylax...|[thromboprophylax...|       0|       0|       0|                    []|\n",
            "|28343723|[The search for e...|Starting at 40 ye...|2017|Journal francais ...|   [Journal Article]|[A El Ameen, S Ma...|[Contact lenses, ...|[Contact Lenses [...|                  []|                  []|              0|[35364776, 31571070]|            2|[starting, at, 40...|[contact, lenses,...|[contact, lenses,...|                  []|[search, electrop...|[search, electrop...|       0|       0|       0|                    []|\n",
            "|28343726|Rapid measurement...|The aberrations o...|2017|     Ultramicroscopy|[Journal Article,...|[Koji Kimoto, Kaz...|[Aberration, Alig...|                NULL|                  []|                  []|              0|                  []|            0|[the, aberrations...|[aberration, alig...|                NULL|                  []|[rapid, measureme...|[rapid, measur, l...|       0|       0|       0|                    []|\n",
            "|28343731|Endoplasmic Retic...|Endoplasmic Retic...|2017|            Placenta|[Journal Article,...|         [Eun D Lee]|[Cancer, ERAP2, I...|[Aminopeptidases ...|[Aminopeptidases,...|[{Cancer Immunol ...|             42|[38968513, 368348...|            8|[endoplasmic, ret...|[cancer, erap2, i...|[aminopeptidases,...|[aminopeptidases,...|[endoplasmic, ret...|[endoplasm, retic...|       1|       1|       1|  [{binding, 1.0}, ...|\n",
            "|28343733|Low-risk papillar...|Papillary microca...|2017|European journal ...|[Journal Article,...|[Y Ito, A Miyauch...|[Active surveilla...|[Carcinoma, Papil...|                  []|                  []|              0|[39457490, 390157...|          126|[papillary, micro...|[active, surveill...|[carcinoma, papil...|                  []|[low, risk, papil...|[low, risk, papil...|       0|       0|       0|                    []|\n",
            "|28343737|Recurrent Mixed C...|Cryoglobulinemia ...|2017|American journal ...|[Case Reports, Jo...|[Renuka Chowdhury...|[HCV RNA, Recurre...|[Antiviral Agents...|[Antiviral Agents...|                  []|              0|[38893714, 342500...|            5|[cryoglobulinemia...|[hcv, rna, recurr...|[antiviral, agent...|[antiviral, agent...|[recurrent, mixed...|[recurr, mix, cry...|       0|       0|       0|                    []|\n",
            "|28343738|Short-term associ...|To analyse whethe...|2017|    Gaceta sanitaria|   [Journal Article]|[Julio Díaz, Pabl...|[Demanda de atenc...|[Aged  , Aged, 80...|                  []|                  []|              0|[38912395, 351669...|            5|[to, analyse, whe...|[demanda, de, ate...|[aged, aged, 80, ...|                  []|[short, term, ass...|[short, term, ass...|       0|       0|       0|                    []|\n",
            "|28343739|[Applicability an...|To describe the r...|2017|    Gaceta sanitaria|[Evaluation Study...|[Rebeca Cerdá-Góm...|[Calidad, Encuest...|[Checklist  , Com...|                  []|                  []|              0|[37026119, 36207706]|            2|[to, describe, th...|[calidad, encuest...|[checklist, commu...|                  []|[applicability, p...|[applic, perceiv,...|       0|       0|       0|                    []|\n",
            "+--------+--------------------+--------------------+----+--------------------+--------------------+--------------------+--------------------+--------------------+--------------------+--------------------+---------------+--------------------+-------------+--------------------+--------------------+--------------------+--------------------+--------------------+--------------------+--------+--------+--------+----------------------+\n",
            "only showing top 20 rows\n",
            "\n"
          ]
        }
      ]
    },
    {
      "cell_type": "code",
      "source": [
        "df_pubmed.columns"
      ],
      "metadata": {
        "colab": {
          "base_uri": "https://localhost:8080/"
        },
        "id": "L4zd2h_tUVUN",
        "outputId": "376044f2-6018-4ee9-88e1-30d2bbd3a0fb"
      },
      "execution_count": null,
      "outputs": [
        {
          "output_type": "execute_result",
          "data": {
            "text/plain": [
              "['PMID',\n",
              " 'Title',\n",
              " 'Abstract',\n",
              " 'Year',\n",
              " 'Journal',\n",
              " 'PublicationType',\n",
              " 'Author_Names',\n",
              " 'Keywords',\n",
              " 'MeshHeadings',\n",
              " 'Chemicals',\n",
              " 'References',\n",
              " 'Reference_Count',\n",
              " 'CitedBy',\n",
              " 'CitedBy_Count',\n",
              " 'abstract_tokens',\n",
              " 'keywords_tokens',\n",
              " 'mesh_tokens',\n",
              " 'chemical_tokens',\n",
              " 'cleaned_tokens',\n",
              " 'stemmed_tokens',\n",
              " 'BP_count',\n",
              " 'MF_count',\n",
              " 'CC_count',\n",
              " 'matched_go_terms_clean']"
            ]
          },
          "metadata": {},
          "execution_count": 28
        }
      ]
    },
    {
      "cell_type": "code",
      "source": [
        "from pyspark.sql.functions import col\n",
        "import pyspark.sql.functions as F\n",
        "\n",
        "selected_columns = ['PMID', 'Title', 'Abstract', 'Year', 'Journal', 'Author_Names', 'Keywords', 'MeshHeadings', 'Chemicals', 'References']\n",
        "\n",
        "# Assuming df_pubmed is your DataFrame\n",
        "df_selected = df_pubmed.select(*[col(c) for c in selected_columns])"
      ],
      "metadata": {
        "id": "iBXxMqf6UlzP"
      },
      "execution_count": null,
      "outputs": []
    },
    {
      "cell_type": "code",
      "source": [
        "df_selected.show(5)"
      ],
      "metadata": {
        "colab": {
          "base_uri": "https://localhost:8080/"
        },
        "id": "eEc3TmTUU4zk",
        "outputId": "fde808d0-e5f7-4127-fd91-aee37e88150c"
      },
      "execution_count": null,
      "outputs": [
        {
          "output_type": "stream",
          "name": "stdout",
          "text": [
            "+--------+--------------------+--------------------+----+--------------------+--------------------+--------------------+--------------------+--------------------+--------------------+\n",
            "|    PMID|               Title|            Abstract|Year|             Journal|        Author_Names|            Keywords|        MeshHeadings|           Chemicals|          References|\n",
            "+--------+--------------------+--------------------+----+--------------------+--------------------+--------------------+--------------------+--------------------+--------------------+\n",
            "|28299189|Molecular signatu...|Anastasis (Greek ...|2017|       F1000Research|[Ho Man Tang, C C...|[Anastasis, Cell ...|                NULL|                  []|[{Nat Rev Cancer....|\n",
            "|28343686|Analysis of essen...|In the fields of ...|2017|Journal of chroma...|[Cecilia Cagliero...|[Essential oils, ...|[Allergens  [, an...|[Allergens, Ionic...|                  []|\n",
            "|28343692|Quality survey of...|The aim of the pr...|2017|The Science of th...|[Laurine Le Coado...|[Bottled water, E...|[Drinking Water  ...|[Drinking Water, ...|                  []|\n",
            "|28343695|Treatment with mi...|Sepsis remains on...|2017|             Surgery|[Laura W Hansen, ...|                  []|[Animals  , Anima...|[Antigens, Surfac...|[{Nature. 2002 Ma...|\n",
            "|28343697|Modeling Avoidanc...|Serious and debil...|2017|Biological psychi...|[Anahit Mkrtchian...|[Anxiety, Avoidan...|[Adolescent  , Ad...|                  []|[{PLoS Comput Bio...|\n",
            "+--------+--------------------+--------------------+----+--------------------+--------------------+--------------------+--------------------+--------------------+--------------------+\n",
            "only showing top 5 rows\n",
            "\n"
          ]
        }
      ]
    },
    {
      "cell_type": "code",
      "source": [
        "from pyspark.sql.functions import col\n",
        "import pyspark.sql.functions as F\n",
        "\n",
        "selected_columns = ['PMID', 'Title', 'Abstract', 'Year', 'Journal', 'Author_Names', 'Keywords', 'MeshHeadings', 'Chemicals', 'References','CitedBy','CitedBy_count','matched_go_terms_clean','BP_count','MF_count','CC_count']\n",
        "\n",
        "# Assuming df_pubmed is your DataFrame\n",
        "df_selected = df_pubmed.select(*[col(c) for c in selected_columns])"
      ],
      "metadata": {
        "id": "QG1v3XyxWSEs"
      },
      "execution_count": null,
      "outputs": []
    },
    {
      "cell_type": "code",
      "source": [
        "df_selected.show(5)"
      ],
      "metadata": {
        "colab": {
          "base_uri": "https://localhost:8080/"
        },
        "id": "9pNksSHSZVwH",
        "outputId": "04f5be9d-a216-4c42-a039-bb546cf4ec10"
      },
      "execution_count": null,
      "outputs": [
        {
          "output_type": "stream",
          "name": "stdout",
          "text": [
            "+--------+--------------------+--------------------+----+--------------------+--------------------+--------------------+--------------------+--------------------+--------------------+--------------------+-------------+----------------------+--------+--------+--------+\n",
            "|    PMID|               Title|            Abstract|Year|             Journal|        Author_Names|            Keywords|        MeshHeadings|           Chemicals|          References|             CitedBy|CitedBy_count|matched_go_terms_clean|BP_count|MF_count|CC_count|\n",
            "+--------+--------------------+--------------------+----+--------------------+--------------------+--------------------+--------------------+--------------------+--------------------+--------------------+-------------+----------------------+--------+--------+--------+\n",
            "|28299189|Molecular signatu...|Anastasis (Greek ...|2017|       F1000Research|[Ho Man Tang, C C...|[Anastasis, Cell ...|                NULL|                  []|[{Nat Rev Cancer....|[39015566, 389209...|           36|  [{angiogenesis, 0...|       5|       0|       0|\n",
            "|28343686|Analysis of essen...|In the fields of ...|2017|Journal of chroma...|[Cecilia Cagliero...|[Essential oils, ...|[Allergens  [, an...|[Allergens, Ionic...|                  []|[38542972, 319368...|            3|  [{rent complex, 2...|       0|       0|       1|\n",
            "|28343692|Quality survey of...|The aim of the pr...|2017|The Science of th...|[Laurine Le Coado...|[Bottled water, E...|[Drinking Water  ...|[Drinking Water, ...|                  []|[39339365, 392810...|            5|    [{transport, 0.0}]|       1|       0|       0|\n",
            "|28343695|Treatment with mi...|Sepsis remains on...|2017|             Surgery|[Laura W Hansen, ...|                  []|[Animals  , Anima...|[Antigens, Surfac...|[{Nature. 2002 Ma...|[39128910, 383326...|           10|  [{inflammatory re...|       3|       0|       0|\n",
            "|28343697|Modeling Avoidanc...|Serious and debil...|2017|Biological psychi...|[Anahit Mkrtchian...|[Anxiety, Avoidan...|[Adolescent  , Ad...|                  []|[{PLoS Comput Bio...|[39467981, 392427...|           52|  [{behavior, 0.0},...|       2|       0|       0|\n",
            "+--------+--------------------+--------------------+----+--------------------+--------------------+--------------------+--------------------+--------------------+--------------------+--------------------+-------------+----------------------+--------+--------+--------+\n",
            "only showing top 5 rows\n",
            "\n"
          ]
        }
      ]
    },
    {
      "cell_type": "code",
      "source": [
        "from pyspark.sql.functions import col\n",
        "import pyspark.sql.functions as F\n",
        "\n",
        "selected_columns = ['PMID', 'CitedBy_count','matched_go_terms_clean','BP_count','MF_count','CC_count']\n",
        "\n",
        "# Assuming df_pubmed is your DataFrame\n",
        "df_selected = df_pubmed.select(*[col(c) for c in selected_columns])"
      ],
      "metadata": {
        "id": "3JVkLZuPZWyJ"
      },
      "execution_count": null,
      "outputs": []
    },
    {
      "cell_type": "code",
      "source": [
        "df_selected.show(5,truncate=False)"
      ],
      "metadata": {
        "colab": {
          "base_uri": "https://localhost:8080/"
        },
        "id": "bYALuLVAZpXa",
        "outputId": "815d9d5e-f79c-4dc2-e932-e27b3342d1d2"
      },
      "execution_count": null,
      "outputs": [
        {
          "output_type": "stream",
          "name": "stdout",
          "text": [
            "+--------+-------------+----------------------------------------------------------------------------------------------------------+--------+--------+--------+\n",
            "|PMID    |CitedBy_count|matched_go_terms_clean                                                                                    |BP_count|MF_count|CC_count|\n",
            "+--------+-------------+----------------------------------------------------------------------------------------------------------+--------+--------+--------+\n",
            "|28299189|36           |[{angiogenesis, 0.0}, {cell cycle, 0.0}, {cell death, 0.0}, {gene expression, 0.0}, {cell migration, 0.0}]|5       |0       |0       |\n",
            "|28343686|3            |[{rent complex, 2.0}]                                                                                     |0       |0       |1       |\n",
            "|28343692|5            |[{transport, 0.0}]                                                                                        |1       |0       |0       |\n",
            "|28343695|10           |[{inflammatory response, 0.0}, {growth, 0.0}, {exogen, 0.0}]                                              |3       |0       |0       |\n",
            "|28343697|52           |[{behavior, 0.0}, {learning, 0.0}]                                                                        |2       |0       |0       |\n",
            "+--------+-------------+----------------------------------------------------------------------------------------------------------+--------+--------+--------+\n",
            "only showing top 5 rows\n",
            "\n"
          ]
        }
      ]
    },
    {
      "cell_type": "code",
      "source": [],
      "metadata": {
        "id": "UTf5Wtq3ZqSL"
      },
      "execution_count": null,
      "outputs": []
    }
  ]
}