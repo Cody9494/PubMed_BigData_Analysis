{
  "cells": [
    {
      "cell_type": "code",
      "execution_count": null,
      "metadata": {},
      "outputs": [
        {
          "name": "stderr",
          "output_type": "stream",
          "text": [
            "USER_AGENT environment variable not set, consider setting it to identify your requests.\n"
          ]
        }
      ],
      "source": [
        "import os\n",
        "from langchain.text_splitter import RecursiveCharacterTextSplitter\n",
        "from langchain.docstore.document import Document\n",
        "import pandas as pd\n",
        "from langchain_community.embeddings.voyageai import VoyageEmbeddings\n",
        "from langchain_voyageai import VoyageAIEmbeddings\n",
        "from langchain_text_splitters import RecursiveJsonSplitter\n",
        "from langchain.vectorstores import Pinecone\n",
        "import pinecone\n",
        "from pinecone import Pinecone\n",
        "from langchain.vectorstores import Pinecone as LangchainPinecone\n",
        "from langchain_pinecone import PineconeVectorStore"
      ]
    },
    {
      "cell_type": "code",
      "execution_count": null,
      "metadata": {},
      "outputs": [],
      "source": [
        "os.environ[\"VOYAGE_API_KEY\"] = \" \"\n",
        "os.environ[\"PINECONE_API_KEY\"] = \"pcsk_3TzW3X_SAqi8rhAzX9EWyCgDAgWAmhxkeJiDK7J7W2ahSjmUvd3Gm66YgLvsFwJxW2cc3c\""
      ]
    },
    {
      "cell_type": "code",
      "execution_count": 3,
      "metadata": {
        "colab": {
          "base_uri": "https://localhost:8080/"
        },
        "id": "FPWGm1bcT-BH",
        "outputId": "836b5507-f2e2-45df-cf9a-3c32c99f8cfe"
      },
      "outputs": [
        {
          "name": "stderr",
          "output_type": "stream",
          "text": [
            "25/04/13 22:59:09 WARN Utils: Your hostname, misha resolves to a loopback address: 127.0.1.1; using 192.168.1.101 instead (on interface wlp44s0)\n",
            "25/04/13 22:59:09 WARN Utils: Set SPARK_LOCAL_IP if you need to bind to another address\n",
            "Setting default log level to \"WARN\".\n",
            "To adjust logging level use sc.setLogLevel(newLevel). For SparkR, use setLogLevel(newLevel).\n",
            "25/04/13 22:59:09 WARN NativeCodeLoader: Unable to load native-hadoop library for your platform... using builtin-java classes where applicable\n"
          ]
        }
      ],
      "source": [
        "from pyspark.sql import SparkSession\n",
        "\n",
        "spark = SparkSession.builder.appName(\"LoadParquet\").getOrCreate()\n",
        "\n",
        "parquet_path = \"/home/misha/Desktop/BIG DATA PROJECT/pubmed_data-20250330T183136Z-001./pubmed_data/df_pubmed.parquet\"\n",
        "\n",
        "df_pubmed = spark.read.parquet(parquet_path)"
      ]
    },
    {
      "cell_type": "code",
      "execution_count": null,
      "metadata": {
        "colab": {
          "base_uri": "https://localhost:8080/"
        },
        "id": "X4YZ4JGvUDFe",
        "outputId": "3d648a59-aada-42bd-9679-649a0407cd72"
      },
      "outputs": [
        {
          "name": "stderr",
          "output_type": "stream",
          "text": [
            "                                                                                \r"
          ]
        }
      ],
      "source": [
        "from langchain.schema import Document\n",
        "\n",
        "sampled_rows = df_pubmed.limit(700).collect()\n",
        "\n",
        "documents = [\n",
        "    Document(\n",
        "        page_content=row['Abstract'] if row['Abstract'] else \"\",\n",
        "        metadata={\"title\": row['Title'] if row['Title'] else \"\"}\n",
        "    )\n",
        "    for row in sampled_rows\n",
        "]\n",
        "text_splitter = RecursiveCharacterTextSplitter(chunk_size=700, chunk_overlap=200)\n",
        "docs_split = text_splitter.split_documents(documents)"
      ]
    },
    {
      "cell_type": "code",
      "execution_count": null,
      "metadata": {},
      "outputs": [
        {
          "name": "stderr",
          "output_type": "stream",
          "text": [
            "25/04/13 22:59:21 WARN GarbageCollectionMetrics: To enable non-built-in garbage collector(s) List(G1 Concurrent GC), users should configure it(them) to spark.eventLog.gcMetrics.youngGenerationGarbageCollectors or spark.eventLog.gcMetrics.oldGenerationGarbageCollectors\n"
          ]
        }
      ],
      "source": [
        "texts = [doc.page_content for doc in docs_split]\n",
        "metadatas = [doc.metadata for doc in docs_split]"
      ]
    },
    {
      "cell_type": "code",
      "execution_count": null,
      "metadata": {},
      "outputs": [
        {
          "name": "stdout",
          "output_type": "stream",
          "text": [
            "Successfully uploaded documents to Pinecone\n"
          ]
        }
      ],
      "source": [
        "### LOAD THE FILE CONTENTS INTO PINECONE - RUN THIS ONLY ONCE\n",
        "embeddings = VoyageAIEmbeddings(\n",
        "    model=\"voyage-3-large\", \n",
        "    output_dimension=1024\n",
        ")\n",
        "\n",
        "index_name = \"\"\n",
        "\n",
        "vectorstore = PineconeVectorStore.from_texts(\n",
        "    texts=texts,  \n",
        "    embedding=embeddings,\n",
        "    metadatas=metadatas,\n",
        "    index_name=index_name)\n",
        "\n",
        "print(\"Done\")"
      ]
    },
    {
      "cell_type": "code",
      "execution_count": null,
      "metadata": {},
      "outputs": [],
      "source": [
        "vectorstore_abstracts = PineconeVectorStore(\n",
        "    index_name=\"1024\", \n",
        "    embedding=embeddings\n",
        ")\n",
        "retriever = vectorstore_abstracts.as_retriever(search_kwargs={\"k\": 3})"
      ]
    },
    {
      "cell_type": "code",
      "execution_count": null,
      "metadata": {},
      "outputs": [],
      "source": [
        "### Your question here\n",
        "retriever.invoke(\" \")"
      ]
    }
  ],
  "metadata": {
    "colab": {
      "provenance": []
    },
    "kernelspec": {
      "display_name": "lsmgraph",
      "language": "python",
      "name": "python3"
    },
    "language_info": {
      "codemirror_mode": {
        "name": "ipython",
        "version": 3
      },
      "file_extension": ".py",
      "mimetype": "text/x-python",
      "name": "python",
      "nbconvert_exporter": "python",
      "pygments_lexer": "ipython3",
      "version": "3.12.7"
    }
  },
  "nbformat": 4,
  "nbformat_minor": 0
}
